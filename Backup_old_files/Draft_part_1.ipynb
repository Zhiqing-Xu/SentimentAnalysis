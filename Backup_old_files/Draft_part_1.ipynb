{
  "nbformat": 4,
  "nbformat_minor": 0,
  "metadata": {
    "colab": {
      "provenance": []
    },
    "kernelspec": {
      "name": "python3",
      "display_name": "Python 3"
    },
    "language_info": {
      "name": "python"
    }
  },
  "cells": [
    {
      "cell_type": "code",
      "execution_count": 22,
      "metadata": {
        "id": "icJQO2DfZeRP"
      },
      "outputs": [],
      "source": [
        "import re\n",
        "import pandas as pd\n",
        "from sklearn.model_selection import train_test_split, GridSearchCV\n",
        "from sklearn.feature_extraction.text import CountVectorizer, TfidfVectorizer\n",
        "from sklearn.feature_selection import SelectKBest, chi2\n",
        "from sklearn.linear_model import LogisticRegression\n",
        "from sklearn.naive_bayes import MultinomialNB\n",
        "from sklearn.ensemble import RandomForestClassifier\n",
        "from sklearn.tree import DecisionTreeClassifier\n",
        "from xgboost import XGBClassifier"
      ]
    },
    {
      "cell_type": "code",
      "source": [
        "df = pd.read_csv(\"sentiment_analysis.csv\", header=[0])"
      ],
      "metadata": {
        "id": "1uJr1HTPbenj"
      },
      "execution_count": 4,
      "outputs": []
    },
    {
      "cell_type": "code",
      "source": [
        "display(df)"
      ],
      "metadata": {
        "colab": {
          "base_uri": "https://localhost:8080/",
          "height": 423
        },
        "id": "yejP9HDZZoRs",
        "outputId": "6b4af216-2cc1-43a4-ca2b-6d00e74ea072"
      },
      "execution_count": 5,
      "outputs": [
        {
          "output_type": "display_data",
          "data": {
            "text/plain": [
              "                  ID                                               text  label\n",
              "0       7.680980e+17  Josh Jenkins is looking forward to TAB Breeder...      1\n",
              "1       7.680980e+17  RT @MianUsmanJaved: Congratulations Pakistan o...      1\n",
              "2       7.680980e+17  RT @PEPalerts: This September, @YESmag is taki...      1\n",
              "3       7.680980e+17  RT @david_gaibis: Newly painted walls, thanks ...      1\n",
              "4       7.680980e+17  RT @CedricFeschotte: Excited to announce: as o...      1\n",
              "...              ...                                                ...    ...\n",
              "550386  8.046170e+17  @goddesses_o I can't stop watching her...mm. M...      0\n",
              "550387  8.046180e+17  Poor old Tom Odell doesn't look like he would ...      0\n",
              "550388  8.046180e+17  #antsmasher I smashed  7 ants in this awesome ...      1\n",
              "550389  8.046180e+17  @LizHudston @KymWyllie @Evasmiless @meanBok @l...      1\n",
              "550390  8.046190e+17  Bixbeat Mixtape Vol.2 is here with great artis...      1\n",
              "\n",
              "[550391 rows x 3 columns]"
            ],
            "text/html": [
              "<div>\n",
              "<style scoped>\n",
              "    .dataframe tbody tr th:only-of-type {\n",
              "        vertical-align: middle;\n",
              "    }\n",
              "\n",
              "    .dataframe tbody tr th {\n",
              "        vertical-align: top;\n",
              "    }\n",
              "\n",
              "    .dataframe thead th {\n",
              "        text-align: right;\n",
              "    }\n",
              "</style>\n",
              "<table border=\"1\" class=\"dataframe\">\n",
              "  <thead>\n",
              "    <tr style=\"text-align: right;\">\n",
              "      <th></th>\n",
              "      <th>ID</th>\n",
              "      <th>text</th>\n",
              "      <th>label</th>\n",
              "    </tr>\n",
              "  </thead>\n",
              "  <tbody>\n",
              "    <tr>\n",
              "      <th>0</th>\n",
              "      <td>7.680980e+17</td>\n",
              "      <td>Josh Jenkins is looking forward to TAB Breeder...</td>\n",
              "      <td>1</td>\n",
              "    </tr>\n",
              "    <tr>\n",
              "      <th>1</th>\n",
              "      <td>7.680980e+17</td>\n",
              "      <td>RT @MianUsmanJaved: Congratulations Pakistan o...</td>\n",
              "      <td>1</td>\n",
              "    </tr>\n",
              "    <tr>\n",
              "      <th>2</th>\n",
              "      <td>7.680980e+17</td>\n",
              "      <td>RT @PEPalerts: This September, @YESmag is taki...</td>\n",
              "      <td>1</td>\n",
              "    </tr>\n",
              "    <tr>\n",
              "      <th>3</th>\n",
              "      <td>7.680980e+17</td>\n",
              "      <td>RT @david_gaibis: Newly painted walls, thanks ...</td>\n",
              "      <td>1</td>\n",
              "    </tr>\n",
              "    <tr>\n",
              "      <th>4</th>\n",
              "      <td>7.680980e+17</td>\n",
              "      <td>RT @CedricFeschotte: Excited to announce: as o...</td>\n",
              "      <td>1</td>\n",
              "    </tr>\n",
              "    <tr>\n",
              "      <th>...</th>\n",
              "      <td>...</td>\n",
              "      <td>...</td>\n",
              "      <td>...</td>\n",
              "    </tr>\n",
              "    <tr>\n",
              "      <th>550386</th>\n",
              "      <td>8.046170e+17</td>\n",
              "      <td>@goddesses_o I can't stop watching her...mm. M...</td>\n",
              "      <td>0</td>\n",
              "    </tr>\n",
              "    <tr>\n",
              "      <th>550387</th>\n",
              "      <td>8.046180e+17</td>\n",
              "      <td>Poor old Tom Odell doesn't look like he would ...</td>\n",
              "      <td>0</td>\n",
              "    </tr>\n",
              "    <tr>\n",
              "      <th>550388</th>\n",
              "      <td>8.046180e+17</td>\n",
              "      <td>#antsmasher I smashed  7 ants in this awesome ...</td>\n",
              "      <td>1</td>\n",
              "    </tr>\n",
              "    <tr>\n",
              "      <th>550389</th>\n",
              "      <td>8.046180e+17</td>\n",
              "      <td>@LizHudston @KymWyllie @Evasmiless @meanBok @l...</td>\n",
              "      <td>1</td>\n",
              "    </tr>\n",
              "    <tr>\n",
              "      <th>550390</th>\n",
              "      <td>8.046190e+17</td>\n",
              "      <td>Bixbeat Mixtape Vol.2 is here with great artis...</td>\n",
              "      <td>1</td>\n",
              "    </tr>\n",
              "  </tbody>\n",
              "</table>\n",
              "<p>550391 rows × 3 columns</p>\n",
              "</div>"
            ]
          },
          "metadata": {}
        }
      ]
    },
    {
      "cell_type": "code",
      "source": [
        "# remove ID column\n",
        "df.drop('ID', axis=1, inplace=True)"
      ],
      "metadata": {
        "id": "XrAnh_V7bK1_"
      },
      "execution_count": 6,
      "outputs": []
    },
    {
      "cell_type": "code",
      "source": [
        "def clean_text(text):\n",
        "    text = re.sub(r'<.*?>', '', text)  # Remove HTML tags\n",
        "    text = re.sub(r'@[A-Za-z0-9]+', '', text)  # Remove user tags\n",
        "    text = re.sub(r'https?://[A-Za-z0-9./]+', '', text)  # Remove URLs\n",
        "    text = re.sub(r'[^A-Za-z0-9 ]+', '', text)  # Remove non-alphanumeric characters\n",
        "    text = re.sub(r'^RT ', '', text) # Remove Retweet\n",
        "    return text.lower()\n",
        "\n",
        "df['cleaned_text'] = df['text'].apply(clean_text)"
      ],
      "metadata": {
        "id": "LTZCNtRTbJvR"
      },
      "execution_count": 7,
      "outputs": []
    },
    {
      "cell_type": "code",
      "source": [
        "display(df)"
      ],
      "metadata": {
        "colab": {
          "base_uri": "https://localhost:8080/",
          "height": 423
        },
        "id": "IveME2CHbSwY",
        "outputId": "df01938b-70b9-48cc-a458-ee6869b37718"
      },
      "execution_count": 8,
      "outputs": [
        {
          "output_type": "display_data",
          "data": {
            "text/plain": [
              "                                                     text  label  \\\n",
              "0       Josh Jenkins is looking forward to TAB Breeder...      1   \n",
              "1       RT @MianUsmanJaved: Congratulations Pakistan o...      1   \n",
              "2       RT @PEPalerts: This September, @YESmag is taki...      1   \n",
              "3       RT @david_gaibis: Newly painted walls, thanks ...      1   \n",
              "4       RT @CedricFeschotte: Excited to announce: as o...      1   \n",
              "...                                                   ...    ...   \n",
              "550386  @goddesses_o I can't stop watching her...mm. M...      0   \n",
              "550387  Poor old Tom Odell doesn't look like he would ...      0   \n",
              "550388  #antsmasher I smashed  7 ants in this awesome ...      1   \n",
              "550389  @LizHudston @KymWyllie @Evasmiless @meanBok @l...      1   \n",
              "550390  Bixbeat Mixtape Vol.2 is here with great artis...      1   \n",
              "\n",
              "                                             cleaned_text  \n",
              "0       josh jenkins is looking forward to tab breeder...  \n",
              "1        congratulations pakistan on becoming no1testt...  \n",
              "2        this september  is taking you to maine mendoz...  \n",
              "3       gaibis newly painted walls thanks a million to...  \n",
              "4        excited to announce as of july 2017 feschotte...  \n",
              "...                                                   ...  \n",
              "550386                 o i cant stop watching hermm more   \n",
              "550387  poor old tom odell doesnt look like he would k...  \n",
              "550388  antsmasher i smashed  7 ants in this awesome g...  \n",
              "550389             morning girls have a wonderful friday   \n",
              "550390  bixbeat mixtape vol2 is here with great artist...  \n",
              "\n",
              "[550391 rows x 3 columns]"
            ],
            "text/html": [
              "<div>\n",
              "<style scoped>\n",
              "    .dataframe tbody tr th:only-of-type {\n",
              "        vertical-align: middle;\n",
              "    }\n",
              "\n",
              "    .dataframe tbody tr th {\n",
              "        vertical-align: top;\n",
              "    }\n",
              "\n",
              "    .dataframe thead th {\n",
              "        text-align: right;\n",
              "    }\n",
              "</style>\n",
              "<table border=\"1\" class=\"dataframe\">\n",
              "  <thead>\n",
              "    <tr style=\"text-align: right;\">\n",
              "      <th></th>\n",
              "      <th>text</th>\n",
              "      <th>label</th>\n",
              "      <th>cleaned_text</th>\n",
              "    </tr>\n",
              "  </thead>\n",
              "  <tbody>\n",
              "    <tr>\n",
              "      <th>0</th>\n",
              "      <td>Josh Jenkins is looking forward to TAB Breeder...</td>\n",
              "      <td>1</td>\n",
              "      <td>josh jenkins is looking forward to tab breeder...</td>\n",
              "    </tr>\n",
              "    <tr>\n",
              "      <th>1</th>\n",
              "      <td>RT @MianUsmanJaved: Congratulations Pakistan o...</td>\n",
              "      <td>1</td>\n",
              "      <td>congratulations pakistan on becoming no1testt...</td>\n",
              "    </tr>\n",
              "    <tr>\n",
              "      <th>2</th>\n",
              "      <td>RT @PEPalerts: This September, @YESmag is taki...</td>\n",
              "      <td>1</td>\n",
              "      <td>this september  is taking you to maine mendoz...</td>\n",
              "    </tr>\n",
              "    <tr>\n",
              "      <th>3</th>\n",
              "      <td>RT @david_gaibis: Newly painted walls, thanks ...</td>\n",
              "      <td>1</td>\n",
              "      <td>gaibis newly painted walls thanks a million to...</td>\n",
              "    </tr>\n",
              "    <tr>\n",
              "      <th>4</th>\n",
              "      <td>RT @CedricFeschotte: Excited to announce: as o...</td>\n",
              "      <td>1</td>\n",
              "      <td>excited to announce as of july 2017 feschotte...</td>\n",
              "    </tr>\n",
              "    <tr>\n",
              "      <th>...</th>\n",
              "      <td>...</td>\n",
              "      <td>...</td>\n",
              "      <td>...</td>\n",
              "    </tr>\n",
              "    <tr>\n",
              "      <th>550386</th>\n",
              "      <td>@goddesses_o I can't stop watching her...mm. M...</td>\n",
              "      <td>0</td>\n",
              "      <td>o i cant stop watching hermm more</td>\n",
              "    </tr>\n",
              "    <tr>\n",
              "      <th>550387</th>\n",
              "      <td>Poor old Tom Odell doesn't look like he would ...</td>\n",
              "      <td>0</td>\n",
              "      <td>poor old tom odell doesnt look like he would k...</td>\n",
              "    </tr>\n",
              "    <tr>\n",
              "      <th>550388</th>\n",
              "      <td>#antsmasher I smashed  7 ants in this awesome ...</td>\n",
              "      <td>1</td>\n",
              "      <td>antsmasher i smashed  7 ants in this awesome g...</td>\n",
              "    </tr>\n",
              "    <tr>\n",
              "      <th>550389</th>\n",
              "      <td>@LizHudston @KymWyllie @Evasmiless @meanBok @l...</td>\n",
              "      <td>1</td>\n",
              "      <td>morning girls have a wonderful friday</td>\n",
              "    </tr>\n",
              "    <tr>\n",
              "      <th>550390</th>\n",
              "      <td>Bixbeat Mixtape Vol.2 is here with great artis...</td>\n",
              "      <td>1</td>\n",
              "      <td>bixbeat mixtape vol2 is here with great artist...</td>\n",
              "    </tr>\n",
              "  </tbody>\n",
              "</table>\n",
              "<p>550391 rows × 3 columns</p>\n",
              "</div>"
            ]
          },
          "metadata": {}
        }
      ]
    },
    {
      "cell_type": "code",
      "source": [
        "X_train, X_test, y_train, y_test = train_test_split(df['cleaned_text'],df['label'], test_size=0.2, random_state=1624)"
      ],
      "metadata": {
        "id": "9ongYMcVbdH7"
      },
      "execution_count": 9,
      "outputs": []
    },
    {
      "cell_type": "code",
      "source": [
        "# TF-IDF\n",
        "vectorizer = TfidfVectorizer()\n",
        "X_train_tfidf = vectorizer.fit_transform(X_train)\n",
        "X_test_tfidf = vectorizer.transform(X_test)"
      ],
      "metadata": {
        "id": "iggOxZcKbtS9"
      },
      "execution_count": 10,
      "outputs": []
    },
    {
      "cell_type": "code",
      "source": [
        "# Bag of Words\n",
        "vectorizer = CountVectorizer()\n",
        "X_train_bow = vectorizer.fit_transform(X_train)\n",
        "X_test_bow = vectorizer.transform(X_test)"
      ],
      "metadata": {
        "id": "NtTaZUlCbvDd"
      },
      "execution_count": 11,
      "outputs": []
    },
    {
      "cell_type": "code",
      "source": [
        "# select 1000 best features by chi2\n",
        "# TF-IDF\n",
        "k = 1000 \n",
        "selector = SelectKBest(chi2, k=k)\n",
        "X_train_tfidf_selected = selector.fit_transform(X_train_tfidf, y_train)\n",
        "X_test_tfidf_selected = selector.transform(X_test_tfidf)"
      ],
      "metadata": {
        "id": "28AHkHP1b1zr"
      },
      "execution_count": 12,
      "outputs": []
    },
    {
      "cell_type": "code",
      "source": [
        "# Bag of Words\n",
        "selector = SelectKBest(chi2, k=k)\n",
        "X_train_bow_selected = selector.fit_transform(X_train_bow, y_train)\n",
        "X_test_bow_selected = selector.transform(X_test_bow)"
      ],
      "metadata": {
        "id": "zSQTKyKkb2MN"
      },
      "execution_count": 13,
      "outputs": []
    },
    {
      "cell_type": "code",
      "source": [
        "# TF-IDF Logistic Regression\n",
        "lr_tfidf = LogisticRegression(max_iter=5000)\n",
        "param_grid = {'C': [0.1, 1, 10, 100],\n",
        "              'solver': ['lbfgs', 'newton-cg', 'liblinear', 'sag', 'saga']}\n",
        "grid_search_lr_tfidf = GridSearchCV(lr_tfidf, param_grid, cv=5)\n",
        "grid_search_lr_tfidf.fit(X_train_tfidf_selected, y_train)\n",
        "\n",
        "# Bag of Words Logistic Regression\n",
        "lr_bow = LogisticRegression(max_iter=5000)\n",
        "param_grid = {'C': [0.1, 1, 10, 100],\n",
        "              'solver': ['lbfgs', 'newton-cg', 'liblinear', 'sag', 'saga']}\n",
        "grid_search_lr_bow = GridSearchCV(lr_bow, param_grid, cv=5)\n",
        "grid_search_lr_bow.fit(X_train_bow_selected, y_train)\n",
        "\n",
        "# Evaluate the models\n",
        "lr_tfidf_acc = grid_search_lr_tfidf.score(X_test_tfidf_selected, y_test)\n",
        "lr_bow_acc = grid_search_lr_bow.score(X_test_bow_selected, y_test)"
      ],
      "metadata": {
        "id": "_rEi-TnkcNax"
      },
      "execution_count": null,
      "outputs": []
    },
    {
      "cell_type": "code",
      "source": [
        "print(lr_tfidf_acc)\n",
        "print(lr_bow_acc)"
      ],
      "metadata": {
        "colab": {
          "base_uri": "https://localhost:8080/"
        },
        "id": "G7Hi5CHqdApO",
        "outputId": "3dda946d-377d-43d5-80a8-e3dc0c37c0de"
      },
      "execution_count": null,
      "outputs": [
        {
          "output_type": "stream",
          "name": "stdout",
          "text": [
            "0.9558408052398731\n",
            "0.9543782192788816\n"
          ]
        }
      ]
    },
    {
      "cell_type": "code",
      "source": [
        "# TF-IDF Naive Bayes\n",
        "nb_tfidf = MultinomialNB()\n",
        "param_grid = {'alpha': [0.1, 0.5, 1, 5, 10]}\n",
        "grid_search_nb_tfidf = GridSearchCV(nb_tfidf, param_grid, cv=5)\n",
        "grid_search_nb_tfidf.fit(X_train_tfidf_selected, y_train)\n",
        "\n",
        "# Bag of Words Naive Bayes\n",
        "nb_bow = MultinomialNB()\n",
        "param_grid = {'alpha': [0.1, 0.5, 1, 5, 10]}\n",
        "grid_search_nb_bow = GridSearchCV(nb_bow, param_grid, cv=5)\n",
        "grid_search_nb_bow.fit(X_train_bow_selected, y_train)\n",
        "\n",
        "# Evaluate the models\n",
        "nb_tfidf_acc = grid_search_nb_tfidf.score(X_test_tfidf_selected, y_test)\n",
        "nb_bow_acc = grid_search_nb_bow.score(X_test_bow_selected, y_test)"
      ],
      "metadata": {
        "id": "q7yMkpfvdef2"
      },
      "execution_count": null,
      "outputs": []
    },
    {
      "cell_type": "code",
      "source": [
        "print(nb_tfidf_acc)\n",
        "print(nb_bow_acc)"
      ],
      "metadata": {
        "id": "k92AoWIldqag",
        "colab": {
          "base_uri": "https://localhost:8080/"
        },
        "outputId": "501ac589-6a19-4029-f6b9-9e6d71e8d48e"
      },
      "execution_count": null,
      "outputs": [
        {
          "output_type": "stream",
          "name": "stdout",
          "text": [
            "0.9116634417100447\n",
            "0.9390165244960438\n"
          ]
        }
      ]
    },
    {
      "cell_type": "code",
      "source": [
        "# TF-IDF Decision Tree\n",
        "dt_tfidf = DecisionTreeClassifier()\n",
        "param_grid = {'max_features': [\"sqrt\", \"log2\"], 'max_depth': [10, 20, 50], 'min_samples_split': [2, 5, 10]}\n",
        "grid_search_dt_tfidf = GridSearchCV(dt_tfidf, param_grid, cv=5)\n",
        "grid_search_dt_tfidf.fit(X_train_bow_selected, y_train)\n",
        "\n",
        "# Bag of Words Decision Tree\n",
        "dt_bow = DecisionTreeClassifier()\n",
        "param_grid = {'max_features': [\"sqrt\", \"log2\"], 'max_depth': [10, 20, 50], 'min_samples_split': [2, 5, 10]}\n",
        "grid_search_dt_bow = GridSearchCV(dt_bow, param_grid, cv=5)\n",
        "grid_search_dt_bow.fit(X_train_bow_selected, y_train)\n",
        "\n",
        "# Evaluate the models\n",
        "dt_tfidf_acc = grid_search_dt_tfidf.score(X_test_tfidf_selected, y_test)\n",
        "dt_bow_acc = grid_search_dt_bow.score(X_test_bow_selected, y_test)"
      ],
      "metadata": {
        "id": "WCZpnb8vcsJz"
      },
      "execution_count": 26,
      "outputs": []
    },
    {
      "cell_type": "code",
      "source": [
        "print(dt_tfidf_acc)\n",
        "print(dt_bow_acc)"
      ],
      "metadata": {
        "colab": {
          "base_uri": "https://localhost:8080/"
        },
        "id": "UwijFMotcsXR",
        "outputId": "771ffbbd-52ce-46b5-8a6d-8e6295dfa3aa"
      },
      "execution_count": 27,
      "outputs": [
        {
          "output_type": "stream",
          "name": "stdout",
          "text": [
            "0.6750061319597743\n",
            "0.7984810908529328\n"
          ]
        }
      ]
    },
    {
      "cell_type": "code",
      "source": [
        "# TF-IDF XGBoost\n",
        "xgb_tfidf = XGBClassifier()\n",
        "param_grid = {'n_estimators': [100, 200, 500], 'max_depth': [3, 5, 10], 'learning_rate': [0.01, 0.1, 0.5]}\n",
        "grid_search_xgb_tfidf = GridSearchCV(xgb_tfidf, param_grid, cv=5)\n",
        "grid_search_xgb_tfidf.fit(X_train_bow_selected, y_train)\n",
        "\n",
        "# Bag of Words XGBoost\n",
        "xgb_bow = XGBClassifier()\n",
        "param_grid = {'n_estimators': [100, 200, 500], 'max_depth': [3, 5, 10], 'learning_rate': [0.01, 0.1, 0.5]}\n",
        "grid_search_xgb_bow = GridSearchCV(xgb_bow, param_grid, cv=5)\n",
        "grid_search_xgb_bow.fit(X_train_bow_selected, y_train)\n",
        "\n",
        "# Evaluate the models\n",
        "xgb_tfidf_acc = grid_search_xgb_tfidf.score(X_test_tfidf_selected, y_test)\n",
        "xgb_bow_acc = grid_search_xgb_bow.score(X_test_bow_selected, y_test)"
      ],
      "metadata": {
        "id": "eyY4IVSdMAIM"
      },
      "execution_count": 19,
      "outputs": []
    },
    {
      "cell_type": "code",
      "source": [
        "print(xgb_tfidf_acc)\n",
        "print(xgb_bow_acc)"
      ],
      "metadata": {
        "id": "v0yf9CrWMEtk",
        "colab": {
          "base_uri": "https://localhost:8080/"
        },
        "outputId": "6b1ac3a7-7133-4a9d-e986-361f2ce21640"
      },
      "execution_count": 20,
      "outputs": [
        {
          "output_type": "stream",
          "name": "stdout",
          "text": [
            "0.5591075500322495\n",
            "0.9589476648588741\n"
          ]
        }
      ]
    },
    {
      "cell_type": "code",
      "source": [
        "print(\"Logistic Regression Accuracy - TF-IDF: {:.2f}, BoW: {:.2f}\".format(lr_tfidf_acc, lr_bow_acc))\n",
        "print(\"Naive Bayes Accuracy - TF-IDF: {:.2f}, BoW: {:.2f}\".format(nb_tfidf_acc, nb_bow_acc))\n",
        "print(\"Decision Tree Accuracy - TF-IDF: {:.2f}, BoW: {:.2f}\".format(dt_tfidf_acc, dt_bow_acc))\n",
        "print(\"XGBoost Accuracy - TF-IDF: {:.2f}, BoW: {:.2f}\".format(xgb_tfidf_acc, xgb_bow_acc))"
      ],
      "metadata": {
        "id": "A9pd-mzbdvtV"
      },
      "execution_count": null,
      "outputs": []
    },
    {
      "cell_type": "markdown",
      "source": [
        "XGBoost with Bag of Words has the best accuracy."
      ],
      "metadata": {
        "id": "DfSMxasuRR2u"
      }
    },
    {
      "cell_type": "code",
      "source": [
        " grid_search_xgb_bow.best_params_"
      ],
      "metadata": {
        "id": "28NZ2VRNjm18",
        "colab": {
          "base_uri": "https://localhost:8080/"
        },
        "outputId": "b6466053-a137-45fc-b22e-aef49f8fdd63"
      },
      "execution_count": 29,
      "outputs": [
        {
          "output_type": "execute_result",
          "data": {
            "text/plain": [
              "{'learning_rate': 0.5, 'max_depth': 10, 'n_estimators': 500}"
            ]
          },
          "metadata": {},
          "execution_count": 29
        }
      ]
    },
    {
      "cell_type": "code",
      "source": [
        "XGBClassifier(learning_rate= 0.5, max_depth= 10, n_estimators= 500)"
      ],
      "metadata": {
        "colab": {
          "base_uri": "https://localhost:8080/",
          "height": 248
        },
        "id": "BHU1PcBSRfe2",
        "outputId": "7dc70463-7353-44c4-efd0-cab3d1ad7732"
      },
      "execution_count": 31,
      "outputs": [
        {
          "output_type": "execute_result",
          "data": {
            "text/plain": [
              "XGBClassifier(base_score=None, booster=None, callbacks=None,\n",
              "              colsample_bylevel=None, colsample_bynode=None,\n",
              "              colsample_bytree=None, early_stopping_rounds=None,\n",
              "              enable_categorical=False, eval_metric=None, feature_types=None,\n",
              "              gamma=None, gpu_id=None, grow_policy=None, importance_type=None,\n",
              "              interaction_constraints=None, learning_rate=0.5, max_bin=None,\n",
              "              max_cat_threshold=None, max_cat_to_onehot=None,\n",
              "              max_delta_step=None, max_depth=10, max_leaves=None,\n",
              "              min_child_weight=None, missing=nan, monotone_constraints=None,\n",
              "              n_estimators=500, n_jobs=None, num_parallel_tree=None,\n",
              "              predictor=None, random_state=None, ...)"
            ],
            "text/html": [
              "<style>#sk-container-id-1 {color: black;background-color: white;}#sk-container-id-1 pre{padding: 0;}#sk-container-id-1 div.sk-toggleable {background-color: white;}#sk-container-id-1 label.sk-toggleable__label {cursor: pointer;display: block;width: 100%;margin-bottom: 0;padding: 0.3em;box-sizing: border-box;text-align: center;}#sk-container-id-1 label.sk-toggleable__label-arrow:before {content: \"▸\";float: left;margin-right: 0.25em;color: #696969;}#sk-container-id-1 label.sk-toggleable__label-arrow:hover:before {color: black;}#sk-container-id-1 div.sk-estimator:hover label.sk-toggleable__label-arrow:before {color: black;}#sk-container-id-1 div.sk-toggleable__content {max-height: 0;max-width: 0;overflow: hidden;text-align: left;background-color: #f0f8ff;}#sk-container-id-1 div.sk-toggleable__content pre {margin: 0.2em;color: black;border-radius: 0.25em;background-color: #f0f8ff;}#sk-container-id-1 input.sk-toggleable__control:checked~div.sk-toggleable__content {max-height: 200px;max-width: 100%;overflow: auto;}#sk-container-id-1 input.sk-toggleable__control:checked~label.sk-toggleable__label-arrow:before {content: \"▾\";}#sk-container-id-1 div.sk-estimator input.sk-toggleable__control:checked~label.sk-toggleable__label {background-color: #d4ebff;}#sk-container-id-1 div.sk-label input.sk-toggleable__control:checked~label.sk-toggleable__label {background-color: #d4ebff;}#sk-container-id-1 input.sk-hidden--visually {border: 0;clip: rect(1px 1px 1px 1px);clip: rect(1px, 1px, 1px, 1px);height: 1px;margin: -1px;overflow: hidden;padding: 0;position: absolute;width: 1px;}#sk-container-id-1 div.sk-estimator {font-family: monospace;background-color: #f0f8ff;border: 1px dotted black;border-radius: 0.25em;box-sizing: border-box;margin-bottom: 0.5em;}#sk-container-id-1 div.sk-estimator:hover {background-color: #d4ebff;}#sk-container-id-1 div.sk-parallel-item::after {content: \"\";width: 100%;border-bottom: 1px solid gray;flex-grow: 1;}#sk-container-id-1 div.sk-label:hover label.sk-toggleable__label {background-color: #d4ebff;}#sk-container-id-1 div.sk-serial::before {content: \"\";position: absolute;border-left: 1px solid gray;box-sizing: border-box;top: 0;bottom: 0;left: 50%;z-index: 0;}#sk-container-id-1 div.sk-serial {display: flex;flex-direction: column;align-items: center;background-color: white;padding-right: 0.2em;padding-left: 0.2em;position: relative;}#sk-container-id-1 div.sk-item {position: relative;z-index: 1;}#sk-container-id-1 div.sk-parallel {display: flex;align-items: stretch;justify-content: center;background-color: white;position: relative;}#sk-container-id-1 div.sk-item::before, #sk-container-id-1 div.sk-parallel-item::before {content: \"\";position: absolute;border-left: 1px solid gray;box-sizing: border-box;top: 0;bottom: 0;left: 50%;z-index: -1;}#sk-container-id-1 div.sk-parallel-item {display: flex;flex-direction: column;z-index: 1;position: relative;background-color: white;}#sk-container-id-1 div.sk-parallel-item:first-child::after {align-self: flex-end;width: 50%;}#sk-container-id-1 div.sk-parallel-item:last-child::after {align-self: flex-start;width: 50%;}#sk-container-id-1 div.sk-parallel-item:only-child::after {width: 0;}#sk-container-id-1 div.sk-dashed-wrapped {border: 1px dashed gray;margin: 0 0.4em 0.5em 0.4em;box-sizing: border-box;padding-bottom: 0.4em;background-color: white;}#sk-container-id-1 div.sk-label label {font-family: monospace;font-weight: bold;display: inline-block;line-height: 1.2em;}#sk-container-id-1 div.sk-label-container {text-align: center;}#sk-container-id-1 div.sk-container {/* jupyter's `normalize.less` sets `[hidden] { display: none; }` but bootstrap.min.css set `[hidden] { display: none !important; }` so we also need the `!important` here to be able to override the default hidden behavior on the sphinx rendered scikit-learn.org. See: https://github.com/scikit-learn/scikit-learn/issues/21755 */display: inline-block !important;position: relative;}#sk-container-id-1 div.sk-text-repr-fallback {display: none;}</style><div id=\"sk-container-id-1\" class=\"sk-top-container\"><div class=\"sk-text-repr-fallback\"><pre>XGBClassifier(base_score=None, booster=None, callbacks=None,\n",
              "              colsample_bylevel=None, colsample_bynode=None,\n",
              "              colsample_bytree=None, early_stopping_rounds=None,\n",
              "              enable_categorical=False, eval_metric=None, feature_types=None,\n",
              "              gamma=None, gpu_id=None, grow_policy=None, importance_type=None,\n",
              "              interaction_constraints=None, learning_rate=0.5, max_bin=None,\n",
              "              max_cat_threshold=None, max_cat_to_onehot=None,\n",
              "              max_delta_step=None, max_depth=10, max_leaves=None,\n",
              "              min_child_weight=None, missing=nan, monotone_constraints=None,\n",
              "              n_estimators=500, n_jobs=None, num_parallel_tree=None,\n",
              "              predictor=None, random_state=None, ...)</pre><b>In a Jupyter environment, please rerun this cell to show the HTML representation or trust the notebook. <br />On GitHub, the HTML representation is unable to render, please try loading this page with nbviewer.org.</b></div><div class=\"sk-container\" hidden><div class=\"sk-item\"><div class=\"sk-estimator sk-toggleable\"><input class=\"sk-toggleable__control sk-hidden--visually\" id=\"sk-estimator-id-1\" type=\"checkbox\" checked><label for=\"sk-estimator-id-1\" class=\"sk-toggleable__label sk-toggleable__label-arrow\">XGBClassifier</label><div class=\"sk-toggleable__content\"><pre>XGBClassifier(base_score=None, booster=None, callbacks=None,\n",
              "              colsample_bylevel=None, colsample_bynode=None,\n",
              "              colsample_bytree=None, early_stopping_rounds=None,\n",
              "              enable_categorical=False, eval_metric=None, feature_types=None,\n",
              "              gamma=None, gpu_id=None, grow_policy=None, importance_type=None,\n",
              "              interaction_constraints=None, learning_rate=0.5, max_bin=None,\n",
              "              max_cat_threshold=None, max_cat_to_onehot=None,\n",
              "              max_delta_step=None, max_depth=10, max_leaves=None,\n",
              "              min_child_weight=None, missing=nan, monotone_constraints=None,\n",
              "              n_estimators=500, n_jobs=None, num_parallel_tree=None,\n",
              "              predictor=None, random_state=None, ...)</pre></div></div></div></div></div>"
            ]
          },
          "metadata": {},
          "execution_count": 31
        }
      ]
    }
  ]
}