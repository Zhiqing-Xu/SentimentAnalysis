{
  "nbformat": 4,
  "nbformat_minor": 0,
  "metadata": {
    "colab": {
      "provenance": [],
      "collapsed_sections": []
    },
    "kernelspec": {
      "name": "python3",
      "display_name": "Python 3"
    },
    "language_info": {
      "name": "python"
    }
  },
  "cells": [
    {
      "cell_type": "code",
      "execution_count": null,
      "metadata": {
        "colab": {
          "base_uri": "https://localhost:8080/",
          "height": 32
        },
        "id": "HMwI-ZC4vKYs",
        "outputId": "908a010a-c86e-4246-96e9-f62ac4e389a9"
      },
      "outputs": [
        {
          "output_type": "display_data",
          "data": {
            "text/plain": [
              "<Figure size 432x288 with 0 Axes>"
            ]
          },
          "metadata": {}
        }
      ],
      "source": [
        "import numpy as np\n",
        "import matplotlib.pyplot as plt\n",
        "\n",
        "\n",
        "fig = plt.figure()\n",
        "\n",
        "x = [200, 300, 400]\n",
        "y1 = [0.3938396176314392 , 0.4302708443972385, 0.44503451938396166]\n",
        "yerr1 = [0.014272184414012389, 0.018305733848378577, 0.011139764717686148]\n",
        "y2 = [0.5348911311736589, 0.5472118959107807, 0.5595326606479023]\n",
        "yerr2 = [0.018559724542714137, 0.015179984895792472 , 0.016832743779634632] "
      ]
    },
    {
      "cell_type": "code",
      "source": [
        "import matplotlib.pyplot as plt\n",
        "fig, (ax1, ax2) = plt.subplots(1, 2)\n",
        "fig.set_size_inches(9,4)\n",
        "plt.subplots_adjust(left=0.1, bottom=0.15, right=0.95, top=0.9, wspace=0.2, hspace=0.15)\n",
        "\n",
        "ax1.axhline(y=0.41, color='#42f578', linestyle='-.', lw=3)\n",
        "(_, caps, _) = ax1.errorbar(x, y1, yerr1, capsize=20, elinewidth=10, linewidth=0, color='#4251f5')\n",
        "for cap in caps:\n",
        "    cap.set_color('red')\n",
        "    cap.set_markeredgewidth(10)\n",
        "ax1.set_xlim(150, 450)\n",
        "ax1.set_title(\"44-Topic Classification\")\n",
        "ax1.set_xlabel(\"Number of Training Samples\")\n",
        "ax1.set_ylabel(\"Top-1 Accuracy\")\n",
        "ax1.set_xticks(x)\n",
        "\n",
        "ax2.axhline(y=0.507, color='#42f578', linestyle='-.', lw=3)\n",
        "(_, caps, _) = ax2.errorbar(x, y2, yerr2, capsize=20, elinewidth=10, linewidth=0, color='#4251f5')\n",
        "for cap in caps:\n",
        "    cap.set_color('red')\n",
        "    cap.set_markeredgewidth(10)\n",
        "ax2.set_xlim(150, 450)\n",
        "ax2.set_title(\"8-Topic Classification\")\n",
        "ax2.set_xlabel(\"Number of Training Samples\")\n",
        "ax2.set_xticks(x)\n",
        "\n",
        "plt.savefig(\"Figure_1.pdf\")\n"
      ],
      "metadata": {
        "colab": {
          "base_uri": "https://localhost:8080/",
          "height": 292
        },
        "id": "eTwypAcRxILx",
        "outputId": "6d0c8f3b-3bc8-4105-8153-91eac51f25cd"
      },
      "execution_count": null,
      "outputs": [
        {
          "output_type": "display_data",
          "data": {
            "text/plain": [
              "<Figure size 648x288 with 2 Axes>"
            ],
            "image/png": "[encoded data removed]"
          },
          "metadata": {
            "needs_background": "light"
          }
        }
      ]
    }
  ]
}