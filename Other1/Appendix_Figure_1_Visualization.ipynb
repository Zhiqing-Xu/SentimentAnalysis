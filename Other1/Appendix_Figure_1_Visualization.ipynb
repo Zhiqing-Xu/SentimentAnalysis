{
  "nbformat": 4,
  "nbformat_minor": 0,
  "metadata": {
    "colab": {
      "provenance": [],
      "collapsed_sections": []
    },
    "kernelspec": {
      "name": "python3",
      "display_name": "Python 3"
    },
    "language_info": {
      "name": "python"
    }
  },
  "cells": [
    {
      "cell_type": "code",
      "execution_count": null,
      "metadata": {
        "colab": {
          "base_uri": "https://localhost:8080/",
          "height": 32
        },
        "id": "HMwI-ZC4vKYs",
        "outputId": "63d509b3-8a76-4540-ffa1-c8be8aa874e2"
      },
      "outputs": [
        {
          "output_type": "display_data",
          "data": {
            "text/plain": [
              "<Figure size 432x288 with 0 Axes>"
            ]
          },
          "metadata": {}
        }
      ],
      "source": [
        "import matplotlib.pyplot as plt\n",
        "import numpy as np\n",
        "\n",
        "fig = plt.figure()\n",
        "\n",
        "x = [64, 256, 512]\n",
        "y1 = [0.472, 0.511, 0.527]\n",
        "yerr1 = [0.014, 0.015, 0.013]\n",
        "y2 = [0.581, 0.625, 0.631]\n",
        "yerr2 = [0.014 , 0.007, 0.015] "
      ]
    },
    {
      "cell_type": "code",
      "source": [
        "import matplotlib.pyplot as plt\n",
        "fig, (ax1, ax2) = plt.subplots(1, 2)\n",
        "fig.set_size_inches(9,4)\n",
        "plt.subplots_adjust(left=0.1, bottom=0.15, right=0.95, top=0.9, wspace=0.2, hspace=0.15)\n",
        "\n",
        "left = 0\n",
        "right = 580\n",
        "xtitle = \"Input Sequence Length\"\n",
        "ax1.axhline(y=0.41, color='#42f578', linestyle='-.', lw=4)\n",
        "(_, caps, _) = ax1.errorbar(x, y1, yerr1, capsize=20, elinewidth=10, linewidth=0, color='#4251f5')\n",
        "for cap in caps:\n",
        "    cap.set_color('red')\n",
        "    cap.set_markeredgewidth(8)\n",
        "\n",
        "ax1.set_xlim(left, right)\n",
        "ax1.set_title(\"44-Topic Classification\")\n",
        "ax1.set_xlabel(xtitle)\n",
        "ax1.set_ylabel(\"Top-1 Accuracy\")\n",
        "ax1.set_xticks(x)\n",
        "ax1.set_ylim(0.4, 0.56)\n",
        "\n",
        "ax2.axhline(y=0.507, color='#42f578', linestyle='-.', lw=4)\n",
        "(_, caps, _) = ax2.errorbar(x, y2, yerr2, capsize=20, elinewidth=10, linewidth=0, color='#4251f5')\n",
        "for cap in caps:\n",
        "    cap.set_color('red')\n",
        "    cap.set_markeredgewidth(8)\n",
        "ax2.set_ylim(0.5, 0.67)\n",
        "ax2.set_xlim(left, right)\n",
        "ax2.set_title(\"8-Topic Classification\")\n",
        "ax2.set_xlabel(xtitle)\n",
        "ax2.set_xticks(x)\n",
        "\n",
        "plt.savefig(\"Figure_1_Appendix.pdf\")\n"
      ],
      "metadata": {
        "colab": {
          "base_uri": "https://localhost:8080/",
          "height": 292
        },
        "id": "eTwypAcRxILx",
        "outputId": "f239d402-b5aa-4d9e-bd6d-a6ccba81f1ee"
      },
      "execution_count": null,
      "outputs": [
        {
          "output_type": "display_data",
          "data": {
            "text/plain": [
              "<Figure size 648x288 with 2 Axes>"
            ],
            "image/png": "[encoded data removed]"
          },
          "metadata": {
            "needs_background": "light"
          }
        }
      ]
    }
  ]
}