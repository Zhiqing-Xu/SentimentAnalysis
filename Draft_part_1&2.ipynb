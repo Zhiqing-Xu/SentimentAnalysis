{
  "cells": [
    {
      "cell_type": "code",
      "execution_count": 1,
      "metadata": {
        "colab": {
          "base_uri": "https://localhost:8080/"
        },
        "id": "icJQO2DfZeRP",
        "outputId": "d017d9db-b931-4ead-b7ee-03b00dd21e69"
      },
      "outputs": [
        {
          "name": "stderr",
          "output_type": "stream",
          "text": [
            "[nltk_data] Downloading package vader_lexicon to\n",
            "[nltk_data]     C:\\Users\\cesiu\\AppData\\Roaming\\nltk_data...\n"
          ]
        }
      ],
      "source": [
        "import re\n",
        "import pandas as pd\n",
        "import numpy as np\n",
        "from sklearn.model_selection import train_test_split, GridSearchCV\n",
        "from sklearn.feature_extraction.text import CountVectorizer, TfidfVectorizer\n",
        "from sklearn.feature_selection import SelectKBest, chi2\n",
        "from sklearn.linear_model import LogisticRegression\n",
        "from sklearn.naive_bayes import MultinomialNB\n",
        "from sklearn.ensemble import RandomForestClassifier\n",
        "from sklearn.tree import DecisionTreeClassifier\n",
        "from xgboost import XGBClassifier\n",
        "\n",
        "import nltk\n",
        "nltk.downloader.download('vader_lexicon')\n",
        "from nltk.sentiment.vader import SentimentIntensityAnalyzer\n",
        "\n",
        "import warnings\n",
        "warnings.filterwarnings(\"ignore\")\n",
        "from sklearn.metrics import accuracy_score\n",
        "\n",
        "\n",
        "\n"
      ]
    },
    {
      "cell_type": "code",
      "execution_count": 11,
      "metadata": {
        "colab": {
          "base_uri": "https://localhost:8080/"
        },
        "id": "d1FJovVDgDwE",
        "outputId": "b8ffb6d7-e773-4e58-b983-306e70c06730"
      },
      "outputs": [
        {
          "ename": "ModuleNotFoundError",
          "evalue": "No module named 'google.colab'",
          "output_type": "error",
          "traceback": [
            "\u001b[1;31m---------------------------------------------------------------------------\u001b[0m",
            "\u001b[1;31mModuleNotFoundError\u001b[0m                       Traceback (most recent call last)",
            "Cell \u001b[1;32mIn[11], line 6\u001b[0m\n\u001b[0;32m      1\u001b[0m \u001b[39m# !pip install --upgrade google-api-python-client\u001b[39;00m\n\u001b[0;32m      2\u001b[0m \u001b[39m# !pip install --upgrade google-cloud\u001b[39;00m\n\u001b[0;32m      3\u001b[0m \u001b[39m# !pip install --upgrade google-cloud-vision\u001b[39;00m\n\u001b[1;32m----> 6\u001b[0m \u001b[39mfrom\u001b[39;00m \u001b[39mgoogle\u001b[39;00m\u001b[39m.\u001b[39;00m\u001b[39mcolab\u001b[39;00m \u001b[39mimport\u001b[39;00m drive\n\u001b[0;32m      7\u001b[0m drive\u001b[39m.\u001b[39mmount(\u001b[39m'\u001b[39m\u001b[39m/content/gdrive\u001b[39m\u001b[39m'\u001b[39m)\n\u001b[0;32m      8\u001b[0m file_1\u001b[39m=\u001b[39m\u001b[39m'\u001b[39m\u001b[39m/content/gdrive/MyDrive/sentiment_analysis.csv\u001b[39m\u001b[39m'\u001b[39m \n",
            "\u001b[1;31mModuleNotFoundError\u001b[0m: No module named 'google.colab'"
          ]
        }
      ],
      "source": [
        "# !pip install google-colab\n",
        "# !pip install --upgrade google-cloud\n",
        "# !pip install --upgrade google-cloud-vision\n",
        "# !pip install --upgrade google-api-python-client\n",
        "\n",
        "from google.colab import drive\n",
        "drive.mount('/content/gdrive')\n",
        "file_1='/content/gdrive/MyDrive/sentiment_analysis.csv' \n",
        "df = pd.read_csv(file_1, header=[0])\n"
      ]
    },
    {
      "cell_type": "code",
      "execution_count": 60,
      "metadata": {
        "id": "1uJr1HTPbenj"
      },
      "outputs": [],
      "source": [
        "# df = pd.read_csv(\"sentiment_analysis.csv\", header=[0])"
      ]
    },
    {
      "cell_type": "code",
      "execution_count": 61,
      "metadata": {
        "colab": {
          "base_uri": "https://localhost:8080/",
          "height": 424
        },
        "id": "yejP9HDZZoRs",
        "outputId": "b8307fd0-01ca-4110-9e13-a1e201001c12"
      },
      "outputs": [
        {
          "data": {
            "text/html": [
              "\n",
              "  <div id=\"df-f22cbfe9-27fb-486d-b17b-9dde074a5e60\">\n",
              "    <div class=\"colab-df-container\">\n",
              "      <div>\n",
              "<style scoped>\n",
              "    .dataframe tbody tr th:only-of-type {\n",
              "        vertical-align: middle;\n",
              "    }\n",
              "\n",
              "    .dataframe tbody tr th {\n",
              "        vertical-align: top;\n",
              "    }\n",
              "\n",
              "    .dataframe thead th {\n",
              "        text-align: right;\n",
              "    }\n",
              "</style>\n",
              "<table border=\"1\" class=\"dataframe\">\n",
              "  <thead>\n",
              "    <tr style=\"text-align: right;\">\n",
              "      <th></th>\n",
              "      <th>ID</th>\n",
              "      <th>text</th>\n",
              "      <th>label</th>\n",
              "    </tr>\n",
              "  </thead>\n",
              "  <tbody>\n",
              "    <tr>\n",
              "      <th>0</th>\n",
              "      <td>7.680980e+17</td>\n",
              "      <td>Josh Jenkins is looking forward to TAB Breeder...</td>\n",
              "      <td>1</td>\n",
              "    </tr>\n",
              "    <tr>\n",
              "      <th>1</th>\n",
              "      <td>7.680980e+17</td>\n",
              "      <td>RT @MianUsmanJaved: Congratulations Pakistan o...</td>\n",
              "      <td>1</td>\n",
              "    </tr>\n",
              "    <tr>\n",
              "      <th>2</th>\n",
              "      <td>7.680980e+17</td>\n",
              "      <td>RT @PEPalerts: This September, @YESmag is taki...</td>\n",
              "      <td>1</td>\n",
              "    </tr>\n",
              "    <tr>\n",
              "      <th>3</th>\n",
              "      <td>7.680980e+17</td>\n",
              "      <td>RT @david_gaibis: Newly painted walls, thanks ...</td>\n",
              "      <td>1</td>\n",
              "    </tr>\n",
              "    <tr>\n",
              "      <th>4</th>\n",
              "      <td>7.680980e+17</td>\n",
              "      <td>RT @CedricFeschotte: Excited to announce: as o...</td>\n",
              "      <td>1</td>\n",
              "    </tr>\n",
              "    <tr>\n",
              "      <th>...</th>\n",
              "      <td>...</td>\n",
              "      <td>...</td>\n",
              "      <td>...</td>\n",
              "    </tr>\n",
              "    <tr>\n",
              "      <th>550386</th>\n",
              "      <td>8.046170e+17</td>\n",
              "      <td>@goddesses_o I can't stop watching her...mm. M...</td>\n",
              "      <td>0</td>\n",
              "    </tr>\n",
              "    <tr>\n",
              "      <th>550387</th>\n",
              "      <td>8.046180e+17</td>\n",
              "      <td>Poor old Tom Odell doesn't look like he would ...</td>\n",
              "      <td>0</td>\n",
              "    </tr>\n",
              "    <tr>\n",
              "      <th>550388</th>\n",
              "      <td>8.046180e+17</td>\n",
              "      <td>#antsmasher I smashed  7 ants in this awesome ...</td>\n",
              "      <td>1</td>\n",
              "    </tr>\n",
              "    <tr>\n",
              "      <th>550389</th>\n",
              "      <td>8.046180e+17</td>\n",
              "      <td>@LizHudston @KymWyllie @Evasmiless @meanBok @l...</td>\n",
              "      <td>1</td>\n",
              "    </tr>\n",
              "    <tr>\n",
              "      <th>550390</th>\n",
              "      <td>8.046190e+17</td>\n",
              "      <td>Bixbeat Mixtape Vol.2 is here with great artis...</td>\n",
              "      <td>1</td>\n",
              "    </tr>\n",
              "  </tbody>\n",
              "</table>\n",
              "<p>550391 rows × 3 columns</p>\n",
              "</div>\n",
              "      <button class=\"colab-df-convert\" onclick=\"convertToInteractive('df-f22cbfe9-27fb-486d-b17b-9dde074a5e60')\"\n",
              "              title=\"Convert this dataframe to an interactive table.\"\n",
              "              style=\"display:none;\">\n",
              "        \n",
              "  <svg xmlns=\"http://www.w3.org/2000/svg\" height=\"24px\"viewBox=\"0 0 24 24\"\n",
              "       width=\"24px\">\n",
              "    <path d=\"M0 0h24v24H0V0z\" fill=\"none\"/>\n",
              "    <path d=\"M18.56 5.44l.94 2.06.94-2.06 2.06-.94-2.06-.94-.94-2.06-.94 2.06-2.06.94zm-11 1L8.5 8.5l.94-2.06 2.06-.94-2.06-.94L8.5 2.5l-.94 2.06-2.06.94zm10 10l.94 2.06.94-2.06 2.06-.94-2.06-.94-.94-2.06-.94 2.06-2.06.94z\"/><path d=\"M17.41 7.96l-1.37-1.37c-.4-.4-.92-.59-1.43-.59-.52 0-1.04.2-1.43.59L10.3 9.45l-7.72 7.72c-.78.78-.78 2.05 0 2.83L4 21.41c.39.39.9.59 1.41.59.51 0 1.02-.2 1.41-.59l7.78-7.78 2.81-2.81c.8-.78.8-2.07 0-2.86zM5.41 20L4 18.59l7.72-7.72 1.47 1.35L5.41 20z\"/>\n",
              "  </svg>\n",
              "      </button>\n",
              "      \n",
              "  <style>\n",
              "    .colab-df-container {\n",
              "      display:flex;\n",
              "      flex-wrap:wrap;\n",
              "      gap: 12px;\n",
              "    }\n",
              "\n",
              "    .colab-df-convert {\n",
              "      background-color: #E8F0FE;\n",
              "      border: none;\n",
              "      border-radius: 50%;\n",
              "      cursor: pointer;\n",
              "      display: none;\n",
              "      fill: #1967D2;\n",
              "      height: 32px;\n",
              "      padding: 0 0 0 0;\n",
              "      width: 32px;\n",
              "    }\n",
              "\n",
              "    .colab-df-convert:hover {\n",
              "      background-color: #E2EBFA;\n",
              "      box-shadow: 0px 1px 2px rgba(60, 64, 67, 0.3), 0px 1px 3px 1px rgba(60, 64, 67, 0.15);\n",
              "      fill: #174EA6;\n",
              "    }\n",
              "\n",
              "    [theme=dark] .colab-df-convert {\n",
              "      background-color: #3B4455;\n",
              "      fill: #D2E3FC;\n",
              "    }\n",
              "\n",
              "    [theme=dark] .colab-df-convert:hover {\n",
              "      background-color: #434B5C;\n",
              "      box-shadow: 0px 1px 3px 1px rgba(0, 0, 0, 0.15);\n",
              "      filter: drop-shadow(0px 1px 2px rgba(0, 0, 0, 0.3));\n",
              "      fill: #FFFFFF;\n",
              "    }\n",
              "  </style>\n",
              "\n",
              "      <script>\n",
              "        const buttonEl =\n",
              "          document.querySelector('#df-f22cbfe9-27fb-486d-b17b-9dde074a5e60 button.colab-df-convert');\n",
              "        buttonEl.style.display =\n",
              "          google.colab.kernel.accessAllowed ? 'block' : 'none';\n",
              "\n",
              "        async function convertToInteractive(key) {\n",
              "          const element = document.querySelector('#df-f22cbfe9-27fb-486d-b17b-9dde074a5e60');\n",
              "          const dataTable =\n",
              "            await google.colab.kernel.invokeFunction('convertToInteractive',\n",
              "                                                     [key], {});\n",
              "          if (!dataTable) return;\n",
              "\n",
              "          const docLinkHtml = 'Like what you see? Visit the ' +\n",
              "            '<a target=\"_blank\" href=https://colab.research.google.com/notebooks/data_table.ipynb>data table notebook</a>'\n",
              "            + ' to learn more about interactive tables.';\n",
              "          element.innerHTML = '';\n",
              "          dataTable['output_type'] = 'display_data';\n",
              "          await google.colab.output.renderOutput(dataTable, element);\n",
              "          const docLink = document.createElement('div');\n",
              "          docLink.innerHTML = docLinkHtml;\n",
              "          element.appendChild(docLink);\n",
              "        }\n",
              "      </script>\n",
              "    </div>\n",
              "  </div>\n",
              "  "
            ],
            "text/plain": [
              "                  ID                                               text  label\n",
              "0       7.680980e+17  Josh Jenkins is looking forward to TAB Breeder...      1\n",
              "1       7.680980e+17  RT @MianUsmanJaved: Congratulations Pakistan o...      1\n",
              "2       7.680980e+17  RT @PEPalerts: This September, @YESmag is taki...      1\n",
              "3       7.680980e+17  RT @david_gaibis: Newly painted walls, thanks ...      1\n",
              "4       7.680980e+17  RT @CedricFeschotte: Excited to announce: as o...      1\n",
              "...              ...                                                ...    ...\n",
              "550386  8.046170e+17  @goddesses_o I can't stop watching her...mm. M...      0\n",
              "550387  8.046180e+17  Poor old Tom Odell doesn't look like he would ...      0\n",
              "550388  8.046180e+17  #antsmasher I smashed  7 ants in this awesome ...      1\n",
              "550389  8.046180e+17  @LizHudston @KymWyllie @Evasmiless @meanBok @l...      1\n",
              "550390  8.046190e+17  Bixbeat Mixtape Vol.2 is here with great artis...      1\n",
              "\n",
              "[550391 rows x 3 columns]"
            ]
          },
          "metadata": {},
          "output_type": "display_data"
        }
      ],
      "source": [
        "display(df)"
      ]
    },
    {
      "cell_type": "code",
      "execution_count": 62,
      "metadata": {
        "id": "XrAnh_V7bK1_"
      },
      "outputs": [],
      "source": [
        "# remove ID column\n",
        "df.drop('ID', axis=1, inplace=True)"
      ]
    },
    {
      "cell_type": "code",
      "execution_count": 63,
      "metadata": {
        "id": "LTZCNtRTbJvR"
      },
      "outputs": [],
      "source": [
        "def clean_text(text):\n",
        "    text = re.sub(r'<.*?>', '', text)  # Remove HTML tags\n",
        "    # text = re.sub(r'@[A-Za-z0-9]+', '', text)  # Remove user tags\n",
        "    text = re.sub(r'@[A-Za-z0-9_:]+', '', text)\n",
        "    text = re.sub(r'https?://[A-Za-z0-9./]+', '', text)  # Remove URLs\n",
        "    text = re.sub(r'[^A-Za-z0-9 ]+', '', text)  # Remove non-alphanumeric characters\n",
        "    text = re.sub(r'^RT ', '', text) # Remove Retweet\n",
        "    return text.lower()\n",
        "\n",
        "df['cleaned_text'] = df['text'].apply(clean_text)"
      ]
    },
    {
      "cell_type": "code",
      "execution_count": 64,
      "metadata": {
        "colab": {
          "base_uri": "https://localhost:8080/",
          "height": 424
        },
        "id": "IveME2CHbSwY",
        "outputId": "8be28a58-0c33-409f-d8f5-53147139eeee"
      },
      "outputs": [
        {
          "data": {
            "text/html": [
              "\n",
              "  <div id=\"df-6f3d22d5-4d1e-4848-9950-165d5c723602\">\n",
              "    <div class=\"colab-df-container\">\n",
              "      <div>\n",
              "<style scoped>\n",
              "    .dataframe tbody tr th:only-of-type {\n",
              "        vertical-align: middle;\n",
              "    }\n",
              "\n",
              "    .dataframe tbody tr th {\n",
              "        vertical-align: top;\n",
              "    }\n",
              "\n",
              "    .dataframe thead th {\n",
              "        text-align: right;\n",
              "    }\n",
              "</style>\n",
              "<table border=\"1\" class=\"dataframe\">\n",
              "  <thead>\n",
              "    <tr style=\"text-align: right;\">\n",
              "      <th></th>\n",
              "      <th>text</th>\n",
              "      <th>label</th>\n",
              "      <th>cleaned_text</th>\n",
              "    </tr>\n",
              "  </thead>\n",
              "  <tbody>\n",
              "    <tr>\n",
              "      <th>0</th>\n",
              "      <td>Josh Jenkins is looking forward to TAB Breeder...</td>\n",
              "      <td>1</td>\n",
              "      <td>josh jenkins is looking forward to tab breeder...</td>\n",
              "    </tr>\n",
              "    <tr>\n",
              "      <th>1</th>\n",
              "      <td>RT @MianUsmanJaved: Congratulations Pakistan o...</td>\n",
              "      <td>1</td>\n",
              "      <td>congratulations pakistan on becoming no1testt...</td>\n",
              "    </tr>\n",
              "    <tr>\n",
              "      <th>2</th>\n",
              "      <td>RT @PEPalerts: This September, @YESmag is taki...</td>\n",
              "      <td>1</td>\n",
              "      <td>this september  is taking you to maine mendoz...</td>\n",
              "    </tr>\n",
              "    <tr>\n",
              "      <th>3</th>\n",
              "      <td>RT @david_gaibis: Newly painted walls, thanks ...</td>\n",
              "      <td>1</td>\n",
              "      <td>newly painted walls thanks a million to our c...</td>\n",
              "    </tr>\n",
              "    <tr>\n",
              "      <th>4</th>\n",
              "      <td>RT @CedricFeschotte: Excited to announce: as o...</td>\n",
              "      <td>1</td>\n",
              "      <td>excited to announce as of july 2017 feschotte...</td>\n",
              "    </tr>\n",
              "    <tr>\n",
              "      <th>...</th>\n",
              "      <td>...</td>\n",
              "      <td>...</td>\n",
              "      <td>...</td>\n",
              "    </tr>\n",
              "    <tr>\n",
              "      <th>550386</th>\n",
              "      <td>@goddesses_o I can't stop watching her...mm. M...</td>\n",
              "      <td>0</td>\n",
              "      <td>i cant stop watching hermm more</td>\n",
              "    </tr>\n",
              "    <tr>\n",
              "      <th>550387</th>\n",
              "      <td>Poor old Tom Odell doesn't look like he would ...</td>\n",
              "      <td>0</td>\n",
              "      <td>poor old tom odell doesnt look like he would k...</td>\n",
              "    </tr>\n",
              "    <tr>\n",
              "      <th>550388</th>\n",
              "      <td>#antsmasher I smashed  7 ants in this awesome ...</td>\n",
              "      <td>1</td>\n",
              "      <td>antsmasher i smashed  7 ants in this awesome g...</td>\n",
              "    </tr>\n",
              "    <tr>\n",
              "      <th>550389</th>\n",
              "      <td>@LizHudston @KymWyllie @Evasmiless @meanBok @l...</td>\n",
              "      <td>1</td>\n",
              "      <td>morning girls have a wonderful friday</td>\n",
              "    </tr>\n",
              "    <tr>\n",
              "      <th>550390</th>\n",
              "      <td>Bixbeat Mixtape Vol.2 is here with great artis...</td>\n",
              "      <td>1</td>\n",
              "      <td>bixbeat mixtape vol2 is here with great artist...</td>\n",
              "    </tr>\n",
              "  </tbody>\n",
              "</table>\n",
              "<p>550391 rows × 3 columns</p>\n",
              "</div>\n",
              "      <button class=\"colab-df-convert\" onclick=\"convertToInteractive('df-6f3d22d5-4d1e-4848-9950-165d5c723602')\"\n",
              "              title=\"Convert this dataframe to an interactive table.\"\n",
              "              style=\"display:none;\">\n",
              "        \n",
              "  <svg xmlns=\"http://www.w3.org/2000/svg\" height=\"24px\"viewBox=\"0 0 24 24\"\n",
              "       width=\"24px\">\n",
              "    <path d=\"M0 0h24v24H0V0z\" fill=\"none\"/>\n",
              "    <path d=\"M18.56 5.44l.94 2.06.94-2.06 2.06-.94-2.06-.94-.94-2.06-.94 2.06-2.06.94zm-11 1L8.5 8.5l.94-2.06 2.06-.94-2.06-.94L8.5 2.5l-.94 2.06-2.06.94zm10 10l.94 2.06.94-2.06 2.06-.94-2.06-.94-.94-2.06-.94 2.06-2.06.94z\"/><path d=\"M17.41 7.96l-1.37-1.37c-.4-.4-.92-.59-1.43-.59-.52 0-1.04.2-1.43.59L10.3 9.45l-7.72 7.72c-.78.78-.78 2.05 0 2.83L4 21.41c.39.39.9.59 1.41.59.51 0 1.02-.2 1.41-.59l7.78-7.78 2.81-2.81c.8-.78.8-2.07 0-2.86zM5.41 20L4 18.59l7.72-7.72 1.47 1.35L5.41 20z\"/>\n",
              "  </svg>\n",
              "      </button>\n",
              "      \n",
              "  <style>\n",
              "    .colab-df-container {\n",
              "      display:flex;\n",
              "      flex-wrap:wrap;\n",
              "      gap: 12px;\n",
              "    }\n",
              "\n",
              "    .colab-df-convert {\n",
              "      background-color: #E8F0FE;\n",
              "      border: none;\n",
              "      border-radius: 50%;\n",
              "      cursor: pointer;\n",
              "      display: none;\n",
              "      fill: #1967D2;\n",
              "      height: 32px;\n",
              "      padding: 0 0 0 0;\n",
              "      width: 32px;\n",
              "    }\n",
              "\n",
              "    .colab-df-convert:hover {\n",
              "      background-color: #E2EBFA;\n",
              "      box-shadow: 0px 1px 2px rgba(60, 64, 67, 0.3), 0px 1px 3px 1px rgba(60, 64, 67, 0.15);\n",
              "      fill: #174EA6;\n",
              "    }\n",
              "\n",
              "    [theme=dark] .colab-df-convert {\n",
              "      background-color: #3B4455;\n",
              "      fill: #D2E3FC;\n",
              "    }\n",
              "\n",
              "    [theme=dark] .colab-df-convert:hover {\n",
              "      background-color: #434B5C;\n",
              "      box-shadow: 0px 1px 3px 1px rgba(0, 0, 0, 0.15);\n",
              "      filter: drop-shadow(0px 1px 2px rgba(0, 0, 0, 0.3));\n",
              "      fill: #FFFFFF;\n",
              "    }\n",
              "  </style>\n",
              "\n",
              "      <script>\n",
              "        const buttonEl =\n",
              "          document.querySelector('#df-6f3d22d5-4d1e-4848-9950-165d5c723602 button.colab-df-convert');\n",
              "        buttonEl.style.display =\n",
              "          google.colab.kernel.accessAllowed ? 'block' : 'none';\n",
              "\n",
              "        async function convertToInteractive(key) {\n",
              "          const element = document.querySelector('#df-6f3d22d5-4d1e-4848-9950-165d5c723602');\n",
              "          const dataTable =\n",
              "            await google.colab.kernel.invokeFunction('convertToInteractive',\n",
              "                                                     [key], {});\n",
              "          if (!dataTable) return;\n",
              "\n",
              "          const docLinkHtml = 'Like what you see? Visit the ' +\n",
              "            '<a target=\"_blank\" href=https://colab.research.google.com/notebooks/data_table.ipynb>data table notebook</a>'\n",
              "            + ' to learn more about interactive tables.';\n",
              "          element.innerHTML = '';\n",
              "          dataTable['output_type'] = 'display_data';\n",
              "          await google.colab.output.renderOutput(dataTable, element);\n",
              "          const docLink = document.createElement('div');\n",
              "          docLink.innerHTML = docLinkHtml;\n",
              "          element.appendChild(docLink);\n",
              "        }\n",
              "      </script>\n",
              "    </div>\n",
              "  </div>\n",
              "  "
            ],
            "text/plain": [
              "                                                     text  label  \\\n",
              "0       Josh Jenkins is looking forward to TAB Breeder...      1   \n",
              "1       RT @MianUsmanJaved: Congratulations Pakistan o...      1   \n",
              "2       RT @PEPalerts: This September, @YESmag is taki...      1   \n",
              "3       RT @david_gaibis: Newly painted walls, thanks ...      1   \n",
              "4       RT @CedricFeschotte: Excited to announce: as o...      1   \n",
              "...                                                   ...    ...   \n",
              "550386  @goddesses_o I can't stop watching her...mm. M...      0   \n",
              "550387  Poor old Tom Odell doesn't look like he would ...      0   \n",
              "550388  #antsmasher I smashed  7 ants in this awesome ...      1   \n",
              "550389  @LizHudston @KymWyllie @Evasmiless @meanBok @l...      1   \n",
              "550390  Bixbeat Mixtape Vol.2 is here with great artis...      1   \n",
              "\n",
              "                                             cleaned_text  \n",
              "0       josh jenkins is looking forward to tab breeder...  \n",
              "1        congratulations pakistan on becoming no1testt...  \n",
              "2        this september  is taking you to maine mendoz...  \n",
              "3        newly painted walls thanks a million to our c...  \n",
              "4        excited to announce as of july 2017 feschotte...  \n",
              "...                                                   ...  \n",
              "550386                   i cant stop watching hermm more   \n",
              "550387  poor old tom odell doesnt look like he would k...  \n",
              "550388  antsmasher i smashed  7 ants in this awesome g...  \n",
              "550389             morning girls have a wonderful friday   \n",
              "550390  bixbeat mixtape vol2 is here with great artist...  \n",
              "\n",
              "[550391 rows x 3 columns]"
            ]
          },
          "metadata": {},
          "output_type": "display_data"
        }
      ],
      "source": [
        "display(df)"
      ]
    },
    {
      "cell_type": "code",
      "execution_count": 65,
      "metadata": {
        "id": "9ongYMcVbdH7"
      },
      "outputs": [],
      "source": [
        "X_train, X_test, y_train, y_test = train_test_split(df['cleaned_text'],df['label'], test_size=0.2, random_state=1624)"
      ]
    },
    {
      "cell_type": "code",
      "execution_count": 66,
      "metadata": {
        "id": "iggOxZcKbtS9"
      },
      "outputs": [],
      "source": [
        "# TF-IDF\n",
        "vectorizer = TfidfVectorizer()\n",
        "X_train_tfidf = vectorizer.fit_transform(X_train)\n",
        "X_test_tfidf = vectorizer.transform(X_test)"
      ]
    },
    {
      "cell_type": "code",
      "execution_count": 67,
      "metadata": {
        "id": "NtTaZUlCbvDd"
      },
      "outputs": [],
      "source": [
        "# Bag of Words\n",
        "vectorizer = CountVectorizer()\n",
        "X_train_bow = vectorizer.fit_transform(X_train)\n",
        "X_test_bow = vectorizer.transform(X_test)"
      ]
    },
    {
      "cell_type": "code",
      "execution_count": 68,
      "metadata": {
        "id": "28AHkHP1b1zr"
      },
      "outputs": [],
      "source": [
        "# select 1000 best features by chi2\n",
        "# TF-IDF\n",
        "k = 1000 \n",
        "selector = SelectKBest(chi2, k=k)\n",
        "X_train_tfidf_selected = selector.fit_transform(X_train_tfidf, y_train)\n",
        "X_test_tfidf_selected = selector.transform(X_test_tfidf)"
      ]
    },
    {
      "cell_type": "code",
      "execution_count": 69,
      "metadata": {
        "id": "zSQTKyKkb2MN"
      },
      "outputs": [],
      "source": [
        "# Bag of Words\n",
        "selector = SelectKBest(chi2, k=k)\n",
        "X_train_bow_selected = selector.fit_transform(X_train_bow, y_train)\n",
        "X_test_bow_selected = selector.transform(X_test_bow)"
      ]
    },
    {
      "cell_type": "code",
      "execution_count": 70,
      "metadata": {
        "id": "_rEi-TnkcNax"
      },
      "outputs": [],
      "source": [
        "# TF-IDF Logistic Regression\n",
        "lr_tfidf = LogisticRegression(max_iter=5000)\n",
        "param_grid = {'C': [0.1, 1, 10, 100],\n",
        "              'solver': ['lbfgs', 'newton-cg', 'liblinear', 'sag', 'saga']}\n",
        "grid_search_lr_tfidf = GridSearchCV(lr_tfidf, param_grid, cv=5)\n",
        "grid_search_lr_tfidf.fit(X_train_tfidf_selected, y_train)\n",
        "\n",
        "# Bag of Words Logistic Regression\n",
        "lr_bow = LogisticRegression(max_iter=5000)\n",
        "param_grid = {'C': [0.1, 1, 10, 100],\n",
        "              'solver': ['lbfgs', 'newton-cg', 'liblinear', 'sag', 'saga']}\n",
        "grid_search_lr_bow = GridSearchCV(lr_bow, param_grid, cv=5)\n",
        "grid_search_lr_bow.fit(X_train_bow_selected, y_train)\n",
        "\n",
        "# Evaluate the models\n",
        "lr_tfidf_acc = grid_search_lr_tfidf.score(X_test_tfidf_selected, y_test)\n",
        "lr_bow_acc = grid_search_lr_bow.score(X_test_bow_selected, y_test)"
      ]
    },
    {
      "cell_type": "code",
      "execution_count": 71,
      "metadata": {
        "colab": {
          "base_uri": "https://localhost:8080/"
        },
        "id": "G7Hi5CHqdApO",
        "outputId": "cdc4d9cf-5f0c-4c84-be5c-4f402682c46a"
      },
      "outputs": [
        {
          "name": "stdout",
          "output_type": "stream",
          "text": [
            "0.9556863706974082\n",
            "0.9544690631273903\n"
          ]
        }
      ],
      "source": [
        "print(lr_tfidf_acc)\n",
        "print(lr_bow_acc)"
      ]
    },
    {
      "cell_type": "code",
      "execution_count": 72,
      "metadata": {
        "id": "q7yMkpfvdef2"
      },
      "outputs": [],
      "source": [
        "# TF-IDF Naive Bayes\n",
        "nb_tfidf = MultinomialNB()\n",
        "param_grid = {'alpha': [0.1, 0.5, 1, 5, 10]}\n",
        "grid_search_nb_tfidf = GridSearchCV(nb_tfidf, param_grid, cv=5)\n",
        "grid_search_nb_tfidf.fit(X_train_tfidf_selected, y_train)\n",
        "\n",
        "# Bag of Words Naive Bayes\n",
        "nb_bow = MultinomialNB()\n",
        "param_grid = {'alpha': [0.1, 0.5, 1, 5, 10]}\n",
        "grid_search_nb_bow = GridSearchCV(nb_bow, param_grid, cv=5)\n",
        "grid_search_nb_bow.fit(X_train_bow_selected, y_train)\n",
        "\n",
        "# Evaluate the models\n",
        "nb_tfidf_acc = grid_search_nb_tfidf.score(X_test_tfidf_selected, y_test)\n",
        "nb_bow_acc = grid_search_nb_bow.score(X_test_bow_selected, y_test)"
      ]
    },
    {
      "cell_type": "code",
      "execution_count": 73,
      "metadata": {
        "colab": {
          "base_uri": "https://localhost:8080/"
        },
        "id": "k92AoWIldqag",
        "outputId": "d4178031-e5cd-47b6-b6b5-94583d6c97dc"
      },
      "outputs": [
        {
          "name": "stdout",
          "output_type": "stream",
          "text": [
            "0.9121449141071413\n",
            "0.9391709590385087\n"
          ]
        }
      ],
      "source": [
        "print(nb_tfidf_acc)\n",
        "print(nb_bow_acc)"
      ]
    },
    {
      "cell_type": "code",
      "execution_count": 74,
      "metadata": {
        "id": "WCZpnb8vcsJz"
      },
      "outputs": [],
      "source": [
        "# TF-IDF Decision Tree\n",
        "dt_tfidf = DecisionTreeClassifier()\n",
        "param_grid = {'max_features': [\"sqrt\", \"log2\"], 'max_depth': [10, 20, 50], 'min_samples_split': [2, 5, 10]}\n",
        "grid_search_dt_tfidf = GridSearchCV(dt_tfidf, param_grid, cv=5)\n",
        "grid_search_dt_tfidf.fit(X_train_bow_selected, y_train)\n",
        "\n",
        "# Bag of Words Decision Tree\n",
        "dt_bow = DecisionTreeClassifier()\n",
        "param_grid = {'max_features': [\"sqrt\", \"log2\"], 'max_depth': [10, 20, 50], 'min_samples_split': [2, 5, 10]}\n",
        "grid_search_dt_bow = GridSearchCV(dt_bow, param_grid, cv=5)\n",
        "grid_search_dt_bow.fit(X_train_bow_selected, y_train)\n",
        "\n",
        "# Evaluate the models\n",
        "dt_tfidf_acc = grid_search_dt_tfidf.score(X_test_tfidf_selected, y_test)\n",
        "dt_bow_acc = grid_search_dt_bow.score(X_test_bow_selected, y_test)"
      ]
    },
    {
      "cell_type": "code",
      "execution_count": 75,
      "metadata": {
        "colab": {
          "base_uri": "https://localhost:8080/"
        },
        "id": "UwijFMotcsXR",
        "outputId": "349586e4-4b6c-4993-920e-b45ad34157cc"
      },
      "outputs": [
        {
          "name": "stdout",
          "output_type": "stream",
          "text": [
            "0.6753876761235112\n",
            "0.7929487004787471\n"
          ]
        }
      ],
      "source": [
        "print(dt_tfidf_acc)\n",
        "print(dt_bow_acc)"
      ]
    },
    {
      "cell_type": "code",
      "execution_count": null,
      "metadata": {
        "id": "eyY4IVSdMAIM"
      },
      "outputs": [],
      "source": [
        "# TF-IDF XGBoost\n",
        "xgb_tfidf = XGBClassifier()\n",
        "param_grid = {'n_estimators': [100, 200, 500], 'max_depth': [3, 5, 10], 'learning_rate': [0.01, 0.1, 0.5]}\n",
        "grid_search_xgb_tfidf = GridSearchCV(xgb_tfidf, param_grid, cv=5)\n",
        "grid_search_xgb_tfidf.fit(X_train_bow_selected, y_train)\n",
        "\n",
        "# Bag of Words XGBoost\n",
        "xgb_bow = XGBClassifier()\n",
        "param_grid = {'n_estimators': [100, 200, 500], 'max_depth': [3, 5, 10], 'learning_rate': [0.01, 0.1, 0.5]}\n",
        "grid_search_xgb_bow = GridSearchCV(xgb_bow, param_grid, cv=5)\n",
        "grid_search_xgb_bow.fit(X_train_bow_selected, y_train)\n",
        "\n",
        "# Evaluate the models\n",
        "xgb_tfidf_acc = grid_search_xgb_tfidf.score(X_test_tfidf_selected, y_test)\n",
        "xgb_bow_acc = grid_search_xgb_bow.score(X_test_bow_selected, y_test)"
      ]
    },
    {
      "cell_type": "code",
      "execution_count": null,
      "metadata": {
        "id": "v0yf9CrWMEtk"
      },
      "outputs": [],
      "source": [
        "print(xgb_tfidf_acc)\n",
        "print(xgb_bow_acc)"
      ]
    },
    {
      "cell_type": "code",
      "execution_count": null,
      "metadata": {
        "id": "A9pd-mzbdvtV"
      },
      "outputs": [],
      "source": [
        "print(\"Logistic Regression Accuracy - TF-IDF: {:.2f}, BoW: {:.2f}\".format(lr_tfidf_acc, lr_bow_acc))\n",
        "print(\"Naive Bayes Accuracy - TF-IDF: {:.2f}, BoW: {:.2f}\".format(nb_tfidf_acc, nb_bow_acc))\n",
        "print(\"Decision Tree Accuracy - TF-IDF: {:.2f}, BoW: {:.2f}\".format(dt_tfidf_acc, dt_bow_acc))\n",
        "print(\"XGBoost Accuracy - TF-IDF: {:.2f}, BoW: {:.2f}\".format(xgb_tfidf_acc, xgb_bow_acc))"
      ]
    },
    {
      "cell_type": "markdown",
      "metadata": {
        "id": "DfSMxasuRR2u"
      },
      "source": [
        "XGBoost with Bag of Words has the best accuracy."
      ]
    },
    {
      "cell_type": "code",
      "execution_count": null,
      "metadata": {
        "id": "28NZ2VRNjm18"
      },
      "outputs": [],
      "source": [
        "grid_search_xgb_bow.best_params_"
      ]
    },
    {
      "cell_type": "code",
      "execution_count": 78,
      "metadata": {
        "colab": {
          "base_uri": "https://localhost:8080/",
          "height": 248
        },
        "id": "BHU1PcBSRfe2",
        "outputId": "b4bf6458-d1e2-44e5-f36d-fc6e300ff7e8"
      },
      "outputs": [
        {
          "data": {
            "text/html": [
              "<style>#sk-container-id-2 {color: black;background-color: white;}#sk-container-id-2 pre{padding: 0;}#sk-container-id-2 div.sk-toggleable {background-color: white;}#sk-container-id-2 label.sk-toggleable__label {cursor: pointer;display: block;width: 100%;margin-bottom: 0;padding: 0.3em;box-sizing: border-box;text-align: center;}#sk-container-id-2 label.sk-toggleable__label-arrow:before {content: \"▸\";float: left;margin-right: 0.25em;color: #696969;}#sk-container-id-2 label.sk-toggleable__label-arrow:hover:before {color: black;}#sk-container-id-2 div.sk-estimator:hover label.sk-toggleable__label-arrow:before {color: black;}#sk-container-id-2 div.sk-toggleable__content {max-height: 0;max-width: 0;overflow: hidden;text-align: left;background-color: #f0f8ff;}#sk-container-id-2 div.sk-toggleable__content pre {margin: 0.2em;color: black;border-radius: 0.25em;background-color: #f0f8ff;}#sk-container-id-2 input.sk-toggleable__control:checked~div.sk-toggleable__content {max-height: 200px;max-width: 100%;overflow: auto;}#sk-container-id-2 input.sk-toggleable__control:checked~label.sk-toggleable__label-arrow:before {content: \"▾\";}#sk-container-id-2 div.sk-estimator input.sk-toggleable__control:checked~label.sk-toggleable__label {background-color: #d4ebff;}#sk-container-id-2 div.sk-label input.sk-toggleable__control:checked~label.sk-toggleable__label {background-color: #d4ebff;}#sk-container-id-2 input.sk-hidden--visually {border: 0;clip: rect(1px 1px 1px 1px);clip: rect(1px, 1px, 1px, 1px);height: 1px;margin: -1px;overflow: hidden;padding: 0;position: absolute;width: 1px;}#sk-container-id-2 div.sk-estimator {font-family: monospace;background-color: #f0f8ff;border: 1px dotted black;border-radius: 0.25em;box-sizing: border-box;margin-bottom: 0.5em;}#sk-container-id-2 div.sk-estimator:hover {background-color: #d4ebff;}#sk-container-id-2 div.sk-parallel-item::after {content: \"\";width: 100%;border-bottom: 1px solid gray;flex-grow: 1;}#sk-container-id-2 div.sk-label:hover label.sk-toggleable__label {background-color: #d4ebff;}#sk-container-id-2 div.sk-serial::before {content: \"\";position: absolute;border-left: 1px solid gray;box-sizing: border-box;top: 0;bottom: 0;left: 50%;z-index: 0;}#sk-container-id-2 div.sk-serial {display: flex;flex-direction: column;align-items: center;background-color: white;padding-right: 0.2em;padding-left: 0.2em;position: relative;}#sk-container-id-2 div.sk-item {position: relative;z-index: 1;}#sk-container-id-2 div.sk-parallel {display: flex;align-items: stretch;justify-content: center;background-color: white;position: relative;}#sk-container-id-2 div.sk-item::before, #sk-container-id-2 div.sk-parallel-item::before {content: \"\";position: absolute;border-left: 1px solid gray;box-sizing: border-box;top: 0;bottom: 0;left: 50%;z-index: -1;}#sk-container-id-2 div.sk-parallel-item {display: flex;flex-direction: column;z-index: 1;position: relative;background-color: white;}#sk-container-id-2 div.sk-parallel-item:first-child::after {align-self: flex-end;width: 50%;}#sk-container-id-2 div.sk-parallel-item:last-child::after {align-self: flex-start;width: 50%;}#sk-container-id-2 div.sk-parallel-item:only-child::after {width: 0;}#sk-container-id-2 div.sk-dashed-wrapped {border: 1px dashed gray;margin: 0 0.4em 0.5em 0.4em;box-sizing: border-box;padding-bottom: 0.4em;background-color: white;}#sk-container-id-2 div.sk-label label {font-family: monospace;font-weight: bold;display: inline-block;line-height: 1.2em;}#sk-container-id-2 div.sk-label-container {text-align: center;}#sk-container-id-2 div.sk-container {/* jupyter's `normalize.less` sets `[hidden] { display: none; }` but bootstrap.min.css set `[hidden] { display: none !important; }` so we also need the `!important` here to be able to override the default hidden behavior on the sphinx rendered scikit-learn.org. See: https://github.com/scikit-learn/scikit-learn/issues/21755 */display: inline-block !important;position: relative;}#sk-container-id-2 div.sk-text-repr-fallback {display: none;}</style><div id=\"sk-container-id-2\" class=\"sk-top-container\"><div class=\"sk-text-repr-fallback\"><pre>XGBClassifier(base_score=None, booster=None, callbacks=None,\n",
              "              colsample_bylevel=None, colsample_bynode=None,\n",
              "              colsample_bytree=None, early_stopping_rounds=None,\n",
              "              enable_categorical=False, eval_metric=None, feature_types=None,\n",
              "              gamma=None, gpu_id=None, grow_policy=None, importance_type=None,\n",
              "              interaction_constraints=None, learning_rate=0.5, max_bin=None,\n",
              "              max_cat_threshold=None, max_cat_to_onehot=None,\n",
              "              max_delta_step=None, max_depth=10, max_leaves=None,\n",
              "              min_child_weight=None, missing=nan, monotone_constraints=None,\n",
              "              n_estimators=500, n_jobs=None, num_parallel_tree=None,\n",
              "              predictor=None, random_state=None, ...)</pre><b>In a Jupyter environment, please rerun this cell to show the HTML representation or trust the notebook. <br />On GitHub, the HTML representation is unable to render, please try loading this page with nbviewer.org.</b></div><div class=\"sk-container\" hidden><div class=\"sk-item\"><div class=\"sk-estimator sk-toggleable\"><input class=\"sk-toggleable__control sk-hidden--visually\" id=\"sk-estimator-id-2\" type=\"checkbox\" checked><label for=\"sk-estimator-id-2\" class=\"sk-toggleable__label sk-toggleable__label-arrow\">XGBClassifier</label><div class=\"sk-toggleable__content\"><pre>XGBClassifier(base_score=None, booster=None, callbacks=None,\n",
              "              colsample_bylevel=None, colsample_bynode=None,\n",
              "              colsample_bytree=None, early_stopping_rounds=None,\n",
              "              enable_categorical=False, eval_metric=None, feature_types=None,\n",
              "              gamma=None, gpu_id=None, grow_policy=None, importance_type=None,\n",
              "              interaction_constraints=None, learning_rate=0.5, max_bin=None,\n",
              "              max_cat_threshold=None, max_cat_to_onehot=None,\n",
              "              max_delta_step=None, max_depth=10, max_leaves=None,\n",
              "              min_child_weight=None, missing=nan, monotone_constraints=None,\n",
              "              n_estimators=500, n_jobs=None, num_parallel_tree=None,\n",
              "              predictor=None, random_state=None, ...)</pre></div></div></div></div></div>"
            ],
            "text/plain": [
              "XGBClassifier(base_score=None, booster=None, callbacks=None,\n",
              "              colsample_bylevel=None, colsample_bynode=None,\n",
              "              colsample_bytree=None, early_stopping_rounds=None,\n",
              "              enable_categorical=False, eval_metric=None, feature_types=None,\n",
              "              gamma=None, gpu_id=None, grow_policy=None, importance_type=None,\n",
              "              interaction_constraints=None, learning_rate=0.5, max_bin=None,\n",
              "              max_cat_threshold=None, max_cat_to_onehot=None,\n",
              "              max_delta_step=None, max_depth=10, max_leaves=None,\n",
              "              min_child_weight=None, missing=nan, monotone_constraints=None,\n",
              "              n_estimators=500, n_jobs=None, num_parallel_tree=None,\n",
              "              predictor=None, random_state=None, ...)"
            ]
          },
          "execution_count": 78,
          "metadata": {},
          "output_type": "execute_result"
        }
      ],
      "source": [
        "XGBClassifier(learning_rate= 0.5, max_depth= 10, n_estimators= 500)"
      ]
    },
    {
      "cell_type": "markdown",
      "metadata": {
        "id": "1hBZBs8SidDT"
      },
      "source": [
        "# Part-2"
      ]
    },
    {
      "cell_type": "markdown",
      "metadata": {
        "id": "WYKmzTLZu2nP"
      },
      "source": [
        "## Applying models"
      ]
    },
    {
      "cell_type": "markdown",
      "metadata": {
        "id": "VL6ffc5Utb-c"
      },
      "source": [
        "### part1 model"
      ]
    },
    {
      "cell_type": "code",
      "execution_count": 120,
      "metadata": {
        "id": "7kIhrUnFtgi5"
      },
      "outputs": [],
      "source": [
        "# Bag of Words\n",
        "vectorizer = CountVectorizer()\n",
        "X_train_bow = vectorizer.fit_transform(X_train)"
      ]
    },
    {
      "cell_type": "code",
      "execution_count": 121,
      "metadata": {
        "id": "sDZZPKHJtgi6"
      },
      "outputs": [],
      "source": [
        "#Select feature using the previous selector\n",
        "selector = SelectKBest(chi2, k=1000)\n",
        "X_train_bow_selected = selector.fit_transform(X_train_bow, y_train)"
      ]
    },
    {
      "cell_type": "code",
      "execution_count": 122,
      "metadata": {
        "colab": {
          "base_uri": "https://localhost:8080/",
          "height": 248
        },
        "id": "tumJXNHJtgi6",
        "outputId": "e9ae69c8-71ff-4020-cf32-8e6434094a00"
      },
      "outputs": [
        {
          "data": {
            "text/html": [
              "<style>#sk-container-id-4 {color: black;background-color: white;}#sk-container-id-4 pre{padding: 0;}#sk-container-id-4 div.sk-toggleable {background-color: white;}#sk-container-id-4 label.sk-toggleable__label {cursor: pointer;display: block;width: 100%;margin-bottom: 0;padding: 0.3em;box-sizing: border-box;text-align: center;}#sk-container-id-4 label.sk-toggleable__label-arrow:before {content: \"▸\";float: left;margin-right: 0.25em;color: #696969;}#sk-container-id-4 label.sk-toggleable__label-arrow:hover:before {color: black;}#sk-container-id-4 div.sk-estimator:hover label.sk-toggleable__label-arrow:before {color: black;}#sk-container-id-4 div.sk-toggleable__content {max-height: 0;max-width: 0;overflow: hidden;text-align: left;background-color: #f0f8ff;}#sk-container-id-4 div.sk-toggleable__content pre {margin: 0.2em;color: black;border-radius: 0.25em;background-color: #f0f8ff;}#sk-container-id-4 input.sk-toggleable__control:checked~div.sk-toggleable__content {max-height: 200px;max-width: 100%;overflow: auto;}#sk-container-id-4 input.sk-toggleable__control:checked~label.sk-toggleable__label-arrow:before {content: \"▾\";}#sk-container-id-4 div.sk-estimator input.sk-toggleable__control:checked~label.sk-toggleable__label {background-color: #d4ebff;}#sk-container-id-4 div.sk-label input.sk-toggleable__control:checked~label.sk-toggleable__label {background-color: #d4ebff;}#sk-container-id-4 input.sk-hidden--visually {border: 0;clip: rect(1px 1px 1px 1px);clip: rect(1px, 1px, 1px, 1px);height: 1px;margin: -1px;overflow: hidden;padding: 0;position: absolute;width: 1px;}#sk-container-id-4 div.sk-estimator {font-family: monospace;background-color: #f0f8ff;border: 1px dotted black;border-radius: 0.25em;box-sizing: border-box;margin-bottom: 0.5em;}#sk-container-id-4 div.sk-estimator:hover {background-color: #d4ebff;}#sk-container-id-4 div.sk-parallel-item::after {content: \"\";width: 100%;border-bottom: 1px solid gray;flex-grow: 1;}#sk-container-id-4 div.sk-label:hover label.sk-toggleable__label {background-color: #d4ebff;}#sk-container-id-4 div.sk-serial::before {content: \"\";position: absolute;border-left: 1px solid gray;box-sizing: border-box;top: 0;bottom: 0;left: 50%;z-index: 0;}#sk-container-id-4 div.sk-serial {display: flex;flex-direction: column;align-items: center;background-color: white;padding-right: 0.2em;padding-left: 0.2em;position: relative;}#sk-container-id-4 div.sk-item {position: relative;z-index: 1;}#sk-container-id-4 div.sk-parallel {display: flex;align-items: stretch;justify-content: center;background-color: white;position: relative;}#sk-container-id-4 div.sk-item::before, #sk-container-id-4 div.sk-parallel-item::before {content: \"\";position: absolute;border-left: 1px solid gray;box-sizing: border-box;top: 0;bottom: 0;left: 50%;z-index: -1;}#sk-container-id-4 div.sk-parallel-item {display: flex;flex-direction: column;z-index: 1;position: relative;background-color: white;}#sk-container-id-4 div.sk-parallel-item:first-child::after {align-self: flex-end;width: 50%;}#sk-container-id-4 div.sk-parallel-item:last-child::after {align-self: flex-start;width: 50%;}#sk-container-id-4 div.sk-parallel-item:only-child::after {width: 0;}#sk-container-id-4 div.sk-dashed-wrapped {border: 1px dashed gray;margin: 0 0.4em 0.5em 0.4em;box-sizing: border-box;padding-bottom: 0.4em;background-color: white;}#sk-container-id-4 div.sk-label label {font-family: monospace;font-weight: bold;display: inline-block;line-height: 1.2em;}#sk-container-id-4 div.sk-label-container {text-align: center;}#sk-container-id-4 div.sk-container {/* jupyter's `normalize.less` sets `[hidden] { display: none; }` but bootstrap.min.css set `[hidden] { display: none !important; }` so we also need the `!important` here to be able to override the default hidden behavior on the sphinx rendered scikit-learn.org. See: https://github.com/scikit-learn/scikit-learn/issues/21755 */display: inline-block !important;position: relative;}#sk-container-id-4 div.sk-text-repr-fallback {display: none;}</style><div id=\"sk-container-id-4\" class=\"sk-top-container\"><div class=\"sk-text-repr-fallback\"><pre>XGBClassifier(base_score=None, booster=None, callbacks=None,\n",
              "              colsample_bylevel=None, colsample_bynode=None,\n",
              "              colsample_bytree=None, early_stopping_rounds=None,\n",
              "              enable_categorical=False, eval_metric=None, feature_types=None,\n",
              "              gamma=None, gpu_id=None, grow_policy=None, importance_type=None,\n",
              "              interaction_constraints=None, learning_rate=0.5, max_bin=None,\n",
              "              max_cat_threshold=None, max_cat_to_onehot=None,\n",
              "              max_delta_step=None, max_depth=10, max_leaves=None,\n",
              "              min_child_weight=None, missing=nan, monotone_constraints=None,\n",
              "              n_estimators=500, n_jobs=None, num_parallel_tree=None,\n",
              "              predictor=None, random_state=1624, ...)</pre><b>In a Jupyter environment, please rerun this cell to show the HTML representation or trust the notebook. <br />On GitHub, the HTML representation is unable to render, please try loading this page with nbviewer.org.</b></div><div class=\"sk-container\" hidden><div class=\"sk-item\"><div class=\"sk-estimator sk-toggleable\"><input class=\"sk-toggleable__control sk-hidden--visually\" id=\"sk-estimator-id-4\" type=\"checkbox\" checked><label for=\"sk-estimator-id-4\" class=\"sk-toggleable__label sk-toggleable__label-arrow\">XGBClassifier</label><div class=\"sk-toggleable__content\"><pre>XGBClassifier(base_score=None, booster=None, callbacks=None,\n",
              "              colsample_bylevel=None, colsample_bynode=None,\n",
              "              colsample_bytree=None, early_stopping_rounds=None,\n",
              "              enable_categorical=False, eval_metric=None, feature_types=None,\n",
              "              gamma=None, gpu_id=None, grow_policy=None, importance_type=None,\n",
              "              interaction_constraints=None, learning_rate=0.5, max_bin=None,\n",
              "              max_cat_threshold=None, max_cat_to_onehot=None,\n",
              "              max_delta_step=None, max_depth=10, max_leaves=None,\n",
              "              min_child_weight=None, missing=nan, monotone_constraints=None,\n",
              "              n_estimators=500, n_jobs=None, num_parallel_tree=None,\n",
              "              predictor=None, random_state=1624, ...)</pre></div></div></div></div></div>"
            ],
            "text/plain": [
              "XGBClassifier(base_score=None, booster=None, callbacks=None,\n",
              "              colsample_bylevel=None, colsample_bynode=None,\n",
              "              colsample_bytree=None, early_stopping_rounds=None,\n",
              "              enable_categorical=False, eval_metric=None, feature_types=None,\n",
              "              gamma=None, gpu_id=None, grow_policy=None, importance_type=None,\n",
              "              interaction_constraints=None, learning_rate=0.5, max_bin=None,\n",
              "              max_cat_threshold=None, max_cat_to_onehot=None,\n",
              "              max_delta_step=None, max_depth=10, max_leaves=None,\n",
              "              min_child_weight=None, missing=nan, monotone_constraints=None,\n",
              "              n_estimators=500, n_jobs=None, num_parallel_tree=None,\n",
              "              predictor=None, random_state=1624, ...)"
            ]
          },
          "execution_count": 122,
          "metadata": {},
          "output_type": "execute_result"
        }
      ],
      "source": [
        "#Apply the best model trained in Part1\n",
        "xgbbest = XGBClassifier(learning_rate= 0.5, max_depth= 10, n_estimators= 500,random_state = 1624)\n",
        "xgbbest.fit(X_train_bow_selected,y_train) "
      ]
    },
    {
      "cell_type": "markdown",
      "metadata": {
        "id": "pJVQUj_0tzhd"
      },
      "source": [
        "### Pretrained model- Vader"
      ]
    },
    {
      "cell_type": "code",
      "execution_count": 123,
      "metadata": {
        "id": "Qs_UQbUiumvA"
      },
      "outputs": [],
      "source": [
        "# Apply a pretrained model Vader and compute a threshold\n",
        "def pre_label(df,column):\n",
        "    df1=df.copy(deep=True)\n",
        "    model = SentimentIntensityAnalyzer()\n",
        "    df_pred = [*df1[column].apply(model.polarity_scores)]\n",
        "    neglst = []\n",
        "    neulst = []\n",
        "    poslst = []\n",
        "    compoundlst = []\n",
        "    for i in df_pred:\n",
        "        neglst.append(i['neg'])\n",
        "        poslst.append(i['pos'])\n",
        "        neulst.append(i['neu'])\n",
        "        compoundlst.append(i['compound'])\n",
        "    dfpred = pd.DataFrame({'neg':neglst, 'pos':poslst,'neu': neulst, 'compound': compoundlst})\n",
        "    df1['compound'] = dfpred['compound'].tolist()\n",
        "    df1 = df1.dropna()\n",
        "    threshold = df1['compound'].mean()\n",
        "    print(threshold)\n",
        "     # compute y-lables using pretrain model\n",
        "    df1['label'] = 0\n",
        "    df1.loc[df1['compound'] >= threshold, 'label'] = 1\n",
        "    return df1"
      ]
    },
    {
      "cell_type": "markdown",
      "metadata": {
        "id": "VHQ-5sBmiJGK"
      },
      "source": [
        "## New dataset 1-reddit_raw_ukraine_russia.csv"
      ]
    },
    {
      "cell_type": "markdown",
      "metadata": {
        "id": "GaPEytXts9ul"
      },
      "source": [
        "### Data cleaning"
      ]
    },
    {
      "cell_type": "code",
      "execution_count": 124,
      "metadata": {
        "id": "U7cXtHOxiJGK"
      },
      "outputs": [],
      "source": [
        "# check the string is english or not\n",
        "def is_english_only_string(s):\n",
        "    return not bool(re.search('[^\\x00-\\x7F]+', s))"
      ]
    },
    {
      "cell_type": "code",
      "execution_count": 125,
      "metadata": {
        "id": "GDhYDZWsiJGK"
      },
      "outputs": [],
      "source": [
        "newdata1 = pd.read_csv('/content/gdrive/MyDrive/reddit_raw_ukraine_russia.csv')\n",
        "newdata1 = newdata1['comments'].dropna() # drop none value in newdata set\n",
        "newdata1_all = newdata1.copy(deep=True)\n",
        "newdata1_all = pd.DataFrame(newdata1_all) # create a new dataframe contains all languages\n",
        "newdata1_eng = newdata1_all[newdata1_all.comments.map(lambda x:is_english_only_string(x))] # filter the english strings"
      ]
    },
    {
      "cell_type": "code",
      "execution_count": 126,
      "metadata": {
        "id": "GGwxY7RviJGK"
      },
      "outputs": [],
      "source": [
        "newdata1_all['cleaned_text'] = newdata1_all['comments'].apply(clean_text)\n",
        "newdata1_eng['cleaned_text'] = newdata1_eng['comments'].apply(clean_text)"
      ]
    },
    {
      "cell_type": "code",
      "execution_count": 127,
      "metadata": {
        "colab": {
          "base_uri": "https://localhost:8080/"
        },
        "id": "4jq8wEXLiJGK",
        "outputId": "884565b7-a3e5-42c7-cccf-f81938c2bb3a"
      },
      "outputs": [
        {
          "data": {
            "text/plain": [
              "0        Hello /u/hjgbuijhgh,\\n\\nThis community is focu...\n",
              "1        uhm thats quite the increase.  \\n\\n\\nI also he...\n",
              "2        Poland also announced that they plan to double...\n",
              "3        Remember, NATO knows more than we’re being tol...\n",
              "4        Well done, Putin. Top 2022 salesman of NATO. \\...\n",
              "                               ...                        \n",
              "16702    not the region where you wanna practice Russia...\n",
              "16703    Only Estonia is far from the USA. If in the US...\n",
              "16704    The Russians can jump through the hoops to acq...\n",
              "16705    At this point Russia will invade anyone it wan...\n",
              "16706    *\"Estonian and Ukrainian languages are bold an...\n",
              "Name: comments, Length: 16707, dtype: object"
            ]
          },
          "execution_count": 127,
          "metadata": {},
          "output_type": "execute_result"
        }
      ],
      "source": [
        "newdata1"
      ]
    },
    {
      "cell_type": "markdown",
      "metadata": {
        "id": "7JezLHf50l-G"
      },
      "source": [
        "### Prediction"
      ]
    },
    {
      "cell_type": "code",
      "execution_count": 128,
      "metadata": {
        "colab": {
          "base_uri": "https://localhost:8080/"
        },
        "id": "dUnXULEJiJGL",
        "outputId": "68578deb-ed45-4b8b-f847-033050dcd76b"
      },
      "outputs": [
        {
          "name": "stdout",
          "output_type": "stream",
          "text": [
            "-0.06999917588375625\n"
          ]
        }
      ],
      "source": [
        "#Vader--English comments\n",
        "df,column = newdata1_eng, 'comments'\n",
        "dfnew1_eng = pre_label(df,column)\n",
        "\n",
        "dfnew1_eng_c = dfnew1_eng['comments'] # select the column 'comments' of new dataset1(English)\n",
        "# Bag of Words--English comments\n",
        "dfnew1_eng_c = vectorizer.transform(dfnew1_eng_c)\n",
        "dfnew1_eng_c = selector.transform(dfnew1_eng_c)\n",
        "\n",
        "pred1_eng = xgbbest.predict(dfnew1_eng_c) # return y prediction values of new dataset1(English)"
      ]
    },
    {
      "cell_type": "code",
      "execution_count": 129,
      "metadata": {
        "colab": {
          "base_uri": "https://localhost:8080/"
        },
        "id": "FVTgUQrhiJGL",
        "outputId": "b9e49b2f-efc0-4b6e-ae8b-54562d6d8c90"
      },
      "outputs": [
        {
          "name": "stdout",
          "output_type": "stream",
          "text": [
            "-0.07447011432333753\n"
          ]
        }
      ],
      "source": [
        "#Vader--English comments\n",
        "df,column = newdata1_all, 'comments'\n",
        "dfnew1_all = pre_label(df,column)\n",
        "dfnew1_all_c = dfnew1_all['comments'] # select the column 'comments' of new dataset1 (all languages)\n",
        "\n",
        "# Bag of Words--All comments\n",
        "dfnew1_all_c = vectorizer.transform(dfnew1_all_c)\n",
        "dfnew1_all_c = selector.transform(dfnew1_all_c)\n",
        "\n",
        "pred1_all = xgbbest.predict(dfnew1_all_c) # return y prediction values of new dataset1(all languages)"
      ]
    },
    {
      "cell_type": "code",
      "execution_count": 130,
      "metadata": {
        "colab": {
          "base_uri": "https://localhost:8080/"
        },
        "id": "L0GRyQz8iJGM",
        "outputId": "f62cdbbe-24fb-4395-efb9-fc6688839cbd"
      },
      "outputs": [
        {
          "name": "stdout",
          "output_type": "stream",
          "text": [
            "All language accuracy: 0.5954988926797151 \n",
            "English only accuracy: 0.5893876960890624\n"
          ]
        }
      ],
      "source": [
        "# compute accuracy between pretrained model and xgboost model\n",
        "allv = dfnew1_all['label'].tolist()\n",
        "allxb = pred1_all.tolist()\n",
        "engv = dfnew1_eng['label'].tolist()\n",
        "engxb = pred1_eng.tolist()\n",
        "print('All language accuracy: {} \\nEnglish only accuracy: {}'.format(accuracy_score(allv, allxb),accuracy_score(engv, engxb)))"
      ]
    },
    {
      "cell_type": "code",
      "execution_count": 131,
      "metadata": {
        "colab": {
          "base_uri": "https://localhost:8080/",
          "height": 295
        },
        "id": "HrosXR_riJGM",
        "outputId": "65210c69-c279-4b65-a1b1-eb33ee06d5ba"
      },
      "outputs": [
        {
          "data": {
            "image/png": "[encoded data removed]",
            "text/plain": [
              "<Figure size 432x288 with 1 Axes>"
            ]
          },
          "metadata": {
            "needs_background": "light"
          },
          "output_type": "display_data"
        }
      ],
      "source": [
        "import matplotlib.pyplot as plt\n",
        "\n",
        "labels = ['positive', 'negative']\n",
        "values1 = [len([x for x in allv if x == 1]), \n",
        "           len([x for x in allv if x == 0])]\n",
        "values2 = [len([x for x in allxb if x == 1]),\n",
        "           len([x for x in allxb if x == 0])]\n",
        "\n",
        "# Set the width of each bar\n",
        "width = 0.35\n",
        "\n",
        "# Create a bar plot for values1\n",
        "p1 = plt.bar(labels, values1, width, label='Pretrained model (Vader)')\n",
        "\n",
        "# Create a bar plot for values2\n",
        "p2 = plt.bar([i + width for i in range(len(values2))], values2, width, label='XGBoost')\n",
        "plt.bar_label(p1)\n",
        "plt.bar_label(p2)\n",
        "# Add labels and title\n",
        "plt.xlabel('Class')\n",
        "plt.ylabel('Count')\n",
        "plt.title('Prediction of Vader model and XGBoost model with all languages on dataset 1')\n",
        "plt.xticks(np.arange(2)+0.175,labels)\n",
        "# Add a legend\n",
        "plt.legend()\n",
        "\n",
        "# Show the plot\n",
        "plt.show()\n"
      ]
    },
    {
      "cell_type": "code",
      "execution_count": 132,
      "metadata": {
        "colab": {
          "base_uri": "https://localhost:8080/",
          "height": 295
        },
        "id": "Yj39GZpZiJGM",
        "outputId": "c10bceb6-1a9e-408b-ba88-d740fa9576db"
      },
      "outputs": [
        {
          "data": {
            "image/png": "[encoded data removed]",
            "text/plain": [
              "<Figure size 432x288 with 1 Axes>"
            ]
          },
          "metadata": {
            "needs_background": "light"
          },
          "output_type": "display_data"
        }
      ],
      "source": [
        "labels = ['positive', 'negative']\n",
        "values3 = [len([x for x in engv if x == 1]), \n",
        "           len([x for x in engv if x == 0])]\n",
        "values4 = [len([x for x in engxb if x == 1]),\n",
        "           len([x for x in engxb if x == 0])]\n",
        "\n",
        "# Set the width of each bar\n",
        "width = 0.35\n",
        "\n",
        "# Create a bar plot for values1\n",
        "p3 = plt.bar(labels, values3, width, label='Pretrained model (Vader)')\n",
        "\n",
        "# Create a bar plot for values2\n",
        "p4 = plt.bar([i + width for i in range(len(values4))], values4, width, label='XGBoost')\n",
        "plt.bar_label(p3)\n",
        "plt.bar_label(p4)\n",
        "# Add labels and title\n",
        "plt.xlabel('Class')\n",
        "plt.ylabel('Count')\n",
        "plt.title('Prediction of Vader model and XGBoost model with English on dataset 1')\n",
        "plt.xticks(np.arange(2)+0.175,labels)\n",
        "# Add a legend\n",
        "plt.legend()\n",
        "\n",
        "# Show the plot\n",
        "plt.show()"
      ]
    },
    {
      "cell_type": "markdown",
      "metadata": {
        "id": "eAqP0wtoijZM"
      },
      "source": [
        "##New dataset 2 -russian_invasion_of_ukraine.csv"
      ]
    },
    {
      "cell_type": "code",
      "execution_count": 133,
      "metadata": {
        "id": "mdsLMWkzvPkB"
      },
      "outputs": [],
      "source": [
        "file_2='/content/gdrive/MyDrive/russian_invasion_of_ukraine.csv'\n",
        "\n",
        "df_inv_tmp=pd.read_csv(file_2, header=[0])"
      ]
    },
    {
      "cell_type": "code",
      "execution_count": 134,
      "metadata": {
        "colab": {
          "base_uri": "https://localhost:8080/",
          "height": 206
        },
        "id": "fLMAHGyfigpu",
        "outputId": "767c7c6b-844a-489a-f520-0792a40f7a1b"
      },
      "outputs": [
        {
          "data": {
            "text/html": [
              "\n",
              "  <div id=\"df-f08d01ce-f200-4067-a8e7-1d8f3b5512e4\">\n",
              "    <div class=\"colab-df-container\">\n",
              "      <div>\n",
              "<style scoped>\n",
              "    .dataframe tbody tr th:only-of-type {\n",
              "        vertical-align: middle;\n",
              "    }\n",
              "\n",
              "    .dataframe tbody tr th {\n",
              "        vertical-align: top;\n",
              "    }\n",
              "\n",
              "    .dataframe thead th {\n",
              "        text-align: right;\n",
              "    }\n",
              "</style>\n",
              "<table border=\"1\" class=\"dataframe\">\n",
              "  <thead>\n",
              "    <tr style=\"text-align: right;\">\n",
              "      <th></th>\n",
              "      <th>title</th>\n",
              "      <th>score</th>\n",
              "      <th>id</th>\n",
              "      <th>url</th>\n",
              "      <th>comms_num</th>\n",
              "      <th>created</th>\n",
              "      <th>body</th>\n",
              "      <th>timestamp</th>\n",
              "    </tr>\n",
              "  </thead>\n",
              "  <tbody>\n",
              "    <tr>\n",
              "      <th>0</th>\n",
              "      <td>Live updates: Russians destroy Chernobyl labor...</td>\n",
              "      <td>56</td>\n",
              "      <td>tkjwjl</td>\n",
              "      <td>https://www.washingtonpost.com/politics/live-u...</td>\n",
              "      <td>15.0</td>\n",
              "      <td>1.648003e+09</td>\n",
              "      <td>NaN</td>\n",
              "      <td>2022-03-23 02:34:15</td>\n",
              "    </tr>\n",
              "    <tr>\n",
              "      <th>1</th>\n",
              "      <td>Romania Is Handing Out 30 Million Anti-Radiati...</td>\n",
              "      <td>265</td>\n",
              "      <td>tkjqga</td>\n",
              "      <td>https://www.vice.com/amp/en/article/pkpw7b/iod...</td>\n",
              "      <td>22.0</td>\n",
              "      <td>1.648002e+09</td>\n",
              "      <td>NaN</td>\n",
              "      <td>2022-03-23 02:25:07</td>\n",
              "    </tr>\n",
              "    <tr>\n",
              "      <th>2</th>\n",
              "      <td>Oil rises towards $116 as EU weighs Russian ban</td>\n",
              "      <td>28</td>\n",
              "      <td>tk1utj</td>\n",
              "      <td>https://www.reuters.com/business/energy/oil-op...</td>\n",
              "      <td>2.0</td>\n",
              "      <td>1.647952e+09</td>\n",
              "      <td>NaN</td>\n",
              "      <td>2022-03-22 12:27:29</td>\n",
              "    </tr>\n",
              "    <tr>\n",
              "      <th>3</th>\n",
              "      <td>Russia Sends $66 Million Coupon to Depository ...</td>\n",
              "      <td>44</td>\n",
              "      <td>tk1nlm</td>\n",
              "      <td>https://www.bloomberg.com/news/articles/2022-0...</td>\n",
              "      <td>8.0</td>\n",
              "      <td>1.647951e+09</td>\n",
              "      <td>NaN</td>\n",
              "      <td>2022-03-22 12:17:29</td>\n",
              "    </tr>\n",
              "    <tr>\n",
              "      <th>4</th>\n",
              "      <td>Ukraine war latest: Global diesel shortage loo...</td>\n",
              "      <td>31</td>\n",
              "      <td>tk1ky3</td>\n",
              "      <td>https://www.ft.com/content/795b432f-b189-4c91-...</td>\n",
              "      <td>3.0</td>\n",
              "      <td>1.647951e+09</td>\n",
              "      <td>NaN</td>\n",
              "      <td>2022-03-22 12:13:26</td>\n",
              "    </tr>\n",
              "  </tbody>\n",
              "</table>\n",
              "</div>\n",
              "      <button class=\"colab-df-convert\" onclick=\"convertToInteractive('df-f08d01ce-f200-4067-a8e7-1d8f3b5512e4')\"\n",
              "              title=\"Convert this dataframe to an interactive table.\"\n",
              "              style=\"display:none;\">\n",
              "        \n",
              "  <svg xmlns=\"http://www.w3.org/2000/svg\" height=\"24px\"viewBox=\"0 0 24 24\"\n",
              "       width=\"24px\">\n",
              "    <path d=\"M0 0h24v24H0V0z\" fill=\"none\"/>\n",
              "    <path d=\"M18.56 5.44l.94 2.06.94-2.06 2.06-.94-2.06-.94-.94-2.06-.94 2.06-2.06.94zm-11 1L8.5 8.5l.94-2.06 2.06-.94-2.06-.94L8.5 2.5l-.94 2.06-2.06.94zm10 10l.94 2.06.94-2.06 2.06-.94-2.06-.94-.94-2.06-.94 2.06-2.06.94z\"/><path d=\"M17.41 7.96l-1.37-1.37c-.4-.4-.92-.59-1.43-.59-.52 0-1.04.2-1.43.59L10.3 9.45l-7.72 7.72c-.78.78-.78 2.05 0 2.83L4 21.41c.39.39.9.59 1.41.59.51 0 1.02-.2 1.41-.59l7.78-7.78 2.81-2.81c.8-.78.8-2.07 0-2.86zM5.41 20L4 18.59l7.72-7.72 1.47 1.35L5.41 20z\"/>\n",
              "  </svg>\n",
              "      </button>\n",
              "      \n",
              "  <style>\n",
              "    .colab-df-container {\n",
              "      display:flex;\n",
              "      flex-wrap:wrap;\n",
              "      gap: 12px;\n",
              "    }\n",
              "\n",
              "    .colab-df-convert {\n",
              "      background-color: #E8F0FE;\n",
              "      border: none;\n",
              "      border-radius: 50%;\n",
              "      cursor: pointer;\n",
              "      display: none;\n",
              "      fill: #1967D2;\n",
              "      height: 32px;\n",
              "      padding: 0 0 0 0;\n",
              "      width: 32px;\n",
              "    }\n",
              "\n",
              "    .colab-df-convert:hover {\n",
              "      background-color: #E2EBFA;\n",
              "      box-shadow: 0px 1px 2px rgba(60, 64, 67, 0.3), 0px 1px 3px 1px rgba(60, 64, 67, 0.15);\n",
              "      fill: #174EA6;\n",
              "    }\n",
              "\n",
              "    [theme=dark] .colab-df-convert {\n",
              "      background-color: #3B4455;\n",
              "      fill: #D2E3FC;\n",
              "    }\n",
              "\n",
              "    [theme=dark] .colab-df-convert:hover {\n",
              "      background-color: #434B5C;\n",
              "      box-shadow: 0px 1px 3px 1px rgba(0, 0, 0, 0.15);\n",
              "      filter: drop-shadow(0px 1px 2px rgba(0, 0, 0, 0.3));\n",
              "      fill: #FFFFFF;\n",
              "    }\n",
              "  </style>\n",
              "\n",
              "      <script>\n",
              "        const buttonEl =\n",
              "          document.querySelector('#df-f08d01ce-f200-4067-a8e7-1d8f3b5512e4 button.colab-df-convert');\n",
              "        buttonEl.style.display =\n",
              "          google.colab.kernel.accessAllowed ? 'block' : 'none';\n",
              "\n",
              "        async function convertToInteractive(key) {\n",
              "          const element = document.querySelector('#df-f08d01ce-f200-4067-a8e7-1d8f3b5512e4');\n",
              "          const dataTable =\n",
              "            await google.colab.kernel.invokeFunction('convertToInteractive',\n",
              "                                                     [key], {});\n",
              "          if (!dataTable) return;\n",
              "\n",
              "          const docLinkHtml = 'Like what you see? Visit the ' +\n",
              "            '<a target=\"_blank\" href=https://colab.research.google.com/notebooks/data_table.ipynb>data table notebook</a>'\n",
              "            + ' to learn more about interactive tables.';\n",
              "          element.innerHTML = '';\n",
              "          dataTable['output_type'] = 'display_data';\n",
              "          await google.colab.output.renderOutput(dataTable, element);\n",
              "          const docLink = document.createElement('div');\n",
              "          docLink.innerHTML = docLinkHtml;\n",
              "          element.appendChild(docLink);\n",
              "        }\n",
              "      </script>\n",
              "    </div>\n",
              "  </div>\n",
              "  "
            ],
            "text/plain": [
              "                                               title score      id  \\\n",
              "0  Live updates: Russians destroy Chernobyl labor...    56  tkjwjl   \n",
              "1  Romania Is Handing Out 30 Million Anti-Radiati...   265  tkjqga   \n",
              "2    Oil rises towards $116 as EU weighs Russian ban    28  tk1utj   \n",
              "3  Russia Sends $66 Million Coupon to Depository ...    44  tk1nlm   \n",
              "4  Ukraine war latest: Global diesel shortage loo...    31  tk1ky3   \n",
              "\n",
              "                                                 url  comms_num       created  \\\n",
              "0  https://www.washingtonpost.com/politics/live-u...       15.0  1.648003e+09   \n",
              "1  https://www.vice.com/amp/en/article/pkpw7b/iod...       22.0  1.648002e+09   \n",
              "2  https://www.reuters.com/business/energy/oil-op...        2.0  1.647952e+09   \n",
              "3  https://www.bloomberg.com/news/articles/2022-0...        8.0  1.647951e+09   \n",
              "4  https://www.ft.com/content/795b432f-b189-4c91-...        3.0  1.647951e+09   \n",
              "\n",
              "  body            timestamp  \n",
              "0  NaN  2022-03-23 02:34:15  \n",
              "1  NaN  2022-03-23 02:25:07  \n",
              "2  NaN  2022-03-22 12:27:29  \n",
              "3  NaN  2022-03-22 12:17:29  \n",
              "4  NaN  2022-03-22 12:13:26  "
            ]
          },
          "execution_count": 134,
          "metadata": {},
          "output_type": "execute_result"
        }
      ],
      "source": [
        "df_inv_tmp.head()"
      ]
    },
    {
      "cell_type": "code",
      "execution_count": 135,
      "metadata": {
        "id": "dlhIuemfxbNw"
      },
      "outputs": [],
      "source": [
        "#Keep the comments part\n",
        "df_inv=df_inv_tmp[['body']].dropna()\n",
        "#Convert the datatype to String\n",
        "df_inv['body'] = df_inv['body'].astype(str)\n",
        "#Apply the text cleaning function\n",
        "df_inv['cleaned_text'] = df_inv['body'].apply(clean_text)"
      ]
    },
    {
      "cell_type": "code",
      "execution_count": 136,
      "metadata": {
        "colab": {
          "base_uri": "https://localhost:8080/",
          "height": 424
        },
        "id": "pLDCSV6gy5Zx",
        "outputId": "38f57de1-c242-404b-e919-9a2f986fb484"
      },
      "outputs": [
        {
          "data": {
            "text/html": [
              "\n",
              "  <div id=\"df-194c4a1f-b253-40e2-bdfe-8bfb5dfec8a6\">\n",
              "    <div class=\"colab-df-container\">\n",
              "      <div>\n",
              "<style scoped>\n",
              "    .dataframe tbody tr th:only-of-type {\n",
              "        vertical-align: middle;\n",
              "    }\n",
              "\n",
              "    .dataframe tbody tr th {\n",
              "        vertical-align: top;\n",
              "    }\n",
              "\n",
              "    .dataframe thead th {\n",
              "        text-align: right;\n",
              "    }\n",
              "</style>\n",
              "<table border=\"1\" class=\"dataframe\">\n",
              "  <thead>\n",
              "    <tr style=\"text-align: right;\">\n",
              "      <th></th>\n",
              "      <th>body</th>\n",
              "      <th>cleaned_text</th>\n",
              "    </tr>\n",
              "  </thead>\n",
              "  <tbody>\n",
              "    <tr>\n",
              "      <th>9</th>\n",
              "      <td>What if I told you, barbarians already, this e...</td>\n",
              "      <td>what if i told you barbarians already this eve...</td>\n",
              "    </tr>\n",
              "    <tr>\n",
              "      <th>10</th>\n",
              "      <td>Oh no. Decathlon is bad? I just ordered from t...</td>\n",
              "      <td>oh no decathlon is bad i just ordered from them</td>\n",
              "    </tr>\n",
              "    <tr>\n",
              "      <th>11</th>\n",
              "      <td>Last I read they have commited almost all thei...</td>\n",
              "      <td>last i read they have commited almost all thei...</td>\n",
              "    </tr>\n",
              "    <tr>\n",
              "      <th>12</th>\n",
              "      <td>Lukashenko was already president…. The protest...</td>\n",
              "      <td>lukashenko was already president the protests ...</td>\n",
              "    </tr>\n",
              "    <tr>\n",
              "      <th>13</th>\n",
              "      <td>Russia: 🥺</td>\n",
              "      <td>russia</td>\n",
              "    </tr>\n",
              "    <tr>\n",
              "      <th>...</th>\n",
              "      <td>...</td>\n",
              "      <td>...</td>\n",
              "    </tr>\n",
              "    <tr>\n",
              "      <th>253489</th>\n",
              "      <td>I doubt the city being a major city will put a...</td>\n",
              "      <td>i doubt the city being a major city will put a...</td>\n",
              "    </tr>\n",
              "    <tr>\n",
              "      <th>253490</th>\n",
              "      <td>Except China isn’t just any country. They have...</td>\n",
              "      <td>except china isnt just any country they have t...</td>\n",
              "    </tr>\n",
              "    <tr>\n",
              "      <th>253491</th>\n",
              "      <td>As they weren’t shitting themselves before…</td>\n",
              "      <td>as they werent shitting themselves before</td>\n",
              "    </tr>\n",
              "    <tr>\n",
              "      <th>253492</th>\n",
              "      <td>TL:\\n\\nIn Mariupol, which was temporarily capt...</td>\n",
              "      <td>tlin mariupol which was temporarily captured b...</td>\n",
              "    </tr>\n",
              "    <tr>\n",
              "      <th>253493</th>\n",
              "      <td>\"We shall fight on the beaches, we shall fight...</td>\n",
              "      <td>we shall fight on the beaches we shall fight o...</td>\n",
              "    </tr>\n",
              "  </tbody>\n",
              "</table>\n",
              "<p>200302 rows × 2 columns</p>\n",
              "</div>\n",
              "      <button class=\"colab-df-convert\" onclick=\"convertToInteractive('df-194c4a1f-b253-40e2-bdfe-8bfb5dfec8a6')\"\n",
              "              title=\"Convert this dataframe to an interactive table.\"\n",
              "              style=\"display:none;\">\n",
              "        \n",
              "  <svg xmlns=\"http://www.w3.org/2000/svg\" height=\"24px\"viewBox=\"0 0 24 24\"\n",
              "       width=\"24px\">\n",
              "    <path d=\"M0 0h24v24H0V0z\" fill=\"none\"/>\n",
              "    <path d=\"M18.56 5.44l.94 2.06.94-2.06 2.06-.94-2.06-.94-.94-2.06-.94 2.06-2.06.94zm-11 1L8.5 8.5l.94-2.06 2.06-.94-2.06-.94L8.5 2.5l-.94 2.06-2.06.94zm10 10l.94 2.06.94-2.06 2.06-.94-2.06-.94-.94-2.06-.94 2.06-2.06.94z\"/><path d=\"M17.41 7.96l-1.37-1.37c-.4-.4-.92-.59-1.43-.59-.52 0-1.04.2-1.43.59L10.3 9.45l-7.72 7.72c-.78.78-.78 2.05 0 2.83L4 21.41c.39.39.9.59 1.41.59.51 0 1.02-.2 1.41-.59l7.78-7.78 2.81-2.81c.8-.78.8-2.07 0-2.86zM5.41 20L4 18.59l7.72-7.72 1.47 1.35L5.41 20z\"/>\n",
              "  </svg>\n",
              "      </button>\n",
              "      \n",
              "  <style>\n",
              "    .colab-df-container {\n",
              "      display:flex;\n",
              "      flex-wrap:wrap;\n",
              "      gap: 12px;\n",
              "    }\n",
              "\n",
              "    .colab-df-convert {\n",
              "      background-color: #E8F0FE;\n",
              "      border: none;\n",
              "      border-radius: 50%;\n",
              "      cursor: pointer;\n",
              "      display: none;\n",
              "      fill: #1967D2;\n",
              "      height: 32px;\n",
              "      padding: 0 0 0 0;\n",
              "      width: 32px;\n",
              "    }\n",
              "\n",
              "    .colab-df-convert:hover {\n",
              "      background-color: #E2EBFA;\n",
              "      box-shadow: 0px 1px 2px rgba(60, 64, 67, 0.3), 0px 1px 3px 1px rgba(60, 64, 67, 0.15);\n",
              "      fill: #174EA6;\n",
              "    }\n",
              "\n",
              "    [theme=dark] .colab-df-convert {\n",
              "      background-color: #3B4455;\n",
              "      fill: #D2E3FC;\n",
              "    }\n",
              "\n",
              "    [theme=dark] .colab-df-convert:hover {\n",
              "      background-color: #434B5C;\n",
              "      box-shadow: 0px 1px 3px 1px rgba(0, 0, 0, 0.15);\n",
              "      filter: drop-shadow(0px 1px 2px rgba(0, 0, 0, 0.3));\n",
              "      fill: #FFFFFF;\n",
              "    }\n",
              "  </style>\n",
              "\n",
              "      <script>\n",
              "        const buttonEl =\n",
              "          document.querySelector('#df-194c4a1f-b253-40e2-bdfe-8bfb5dfec8a6 button.colab-df-convert');\n",
              "        buttonEl.style.display =\n",
              "          google.colab.kernel.accessAllowed ? 'block' : 'none';\n",
              "\n",
              "        async function convertToInteractive(key) {\n",
              "          const element = document.querySelector('#df-194c4a1f-b253-40e2-bdfe-8bfb5dfec8a6');\n",
              "          const dataTable =\n",
              "            await google.colab.kernel.invokeFunction('convertToInteractive',\n",
              "                                                     [key], {});\n",
              "          if (!dataTable) return;\n",
              "\n",
              "          const docLinkHtml = 'Like what you see? Visit the ' +\n",
              "            '<a target=\"_blank\" href=https://colab.research.google.com/notebooks/data_table.ipynb>data table notebook</a>'\n",
              "            + ' to learn more about interactive tables.';\n",
              "          element.innerHTML = '';\n",
              "          dataTable['output_type'] = 'display_data';\n",
              "          await google.colab.output.renderOutput(dataTable, element);\n",
              "          const docLink = document.createElement('div');\n",
              "          docLink.innerHTML = docLinkHtml;\n",
              "          element.appendChild(docLink);\n",
              "        }\n",
              "      </script>\n",
              "    </div>\n",
              "  </div>\n",
              "  "
            ],
            "text/plain": [
              "                                                     body  \\\n",
              "9       What if I told you, barbarians already, this e...   \n",
              "10      Oh no. Decathlon is bad? I just ordered from t...   \n",
              "11      Last I read they have commited almost all thei...   \n",
              "12      Lukashenko was already president…. The protest...   \n",
              "13                                              Russia: 🥺   \n",
              "...                                                   ...   \n",
              "253489  I doubt the city being a major city will put a...   \n",
              "253490  Except China isn’t just any country. They have...   \n",
              "253491        As they weren’t shitting themselves before…   \n",
              "253492  TL:\\n\\nIn Mariupol, which was temporarily capt...   \n",
              "253493  \"We shall fight on the beaches, we shall fight...   \n",
              "\n",
              "                                             cleaned_text  \n",
              "9       what if i told you barbarians already this eve...  \n",
              "10        oh no decathlon is bad i just ordered from them  \n",
              "11      last i read they have commited almost all thei...  \n",
              "12      lukashenko was already president the protests ...  \n",
              "13                                                russia   \n",
              "...                                                   ...  \n",
              "253489  i doubt the city being a major city will put a...  \n",
              "253490  except china isnt just any country they have t...  \n",
              "253491          as they werent shitting themselves before  \n",
              "253492  tlin mariupol which was temporarily captured b...  \n",
              "253493  we shall fight on the beaches we shall fight o...  \n",
              "\n",
              "[200302 rows x 2 columns]"
            ]
          },
          "execution_count": 136,
          "metadata": {},
          "output_type": "execute_result"
        }
      ],
      "source": [
        "df_inv"
      ]
    },
    {
      "cell_type": "code",
      "execution_count": 137,
      "metadata": {
        "id": "29Voy4uOtPFv"
      },
      "outputs": [],
      "source": [
        "#Check language\n",
        "df_inv_eng = df_inv['cleaned_text'][df_inv['cleaned_text'].map(lambda x:is_english_only_string(x))]"
      ]
    },
    {
      "cell_type": "code",
      "execution_count": 138,
      "metadata": {
        "colab": {
          "base_uri": "https://localhost:8080/"
        },
        "id": "wJgRya2mtjwo",
        "outputId": "e7f75865-7743-4d51-b6cc-a7fed54ee4cd"
      },
      "outputs": [
        {
          "name": "stdout",
          "output_type": "stream",
          "text": [
            "True\n"
          ]
        }
      ],
      "source": [
        "#Check if there are other languages, if True, the comments text all considered English\n",
        "print(df_inv_eng.shape[0]==df_inv.shape[0])"
      ]
    },
    {
      "cell_type": "markdown",
      "metadata": {
        "id": "6InARH68oBll"
      },
      "source": [
        "### Prediction"
      ]
    },
    {
      "cell_type": "code",
      "execution_count": 139,
      "metadata": {
        "id": "Ty2Hj5v8gZ_7"
      },
      "outputs": [],
      "source": [
        "# XGBoost with Bag of Words\n",
        "df_inv_bow = vectorizer.transform(df_inv['cleaned_text'])\n",
        "df_inv_bow_selected = selector.transform(df_inv_bow)\n",
        "#Predict labels using the best model\n",
        "df_inv_bow_xgbpred=xgbbest.predict(df_inv_bow_selected)"
      ]
    },
    {
      "cell_type": "code",
      "execution_count": 140,
      "metadata": {
        "id": "AXtOkGzFCDIp"
      },
      "outputs": [],
      "source": [
        "df_inv_bow_xgbpred_tmp=pd.DataFrame(df_inv_bow_xgbpred.astype(int),index=df_inv.index,columns=['label'])\n",
        "df_inv_bow_xgbpred=pd.concat([df_inv,df_inv_bow_xgbpred_tmp],axis=1)"
      ]
    },
    {
      "cell_type": "code",
      "execution_count": 141,
      "metadata": {
        "colab": {
          "base_uri": "https://localhost:8080/",
          "height": 424
        },
        "id": "ACLua7uR8qTY",
        "outputId": "8a88954f-cd38-4269-929e-39c44ac81a11"
      },
      "outputs": [
        {
          "data": {
            "text/html": [
              "\n",
              "  <div id=\"df-33893558-0608-44d5-a742-eaa6a1d0f4bd\">\n",
              "    <div class=\"colab-df-container\">\n",
              "      <div>\n",
              "<style scoped>\n",
              "    .dataframe tbody tr th:only-of-type {\n",
              "        vertical-align: middle;\n",
              "    }\n",
              "\n",
              "    .dataframe tbody tr th {\n",
              "        vertical-align: top;\n",
              "    }\n",
              "\n",
              "    .dataframe thead th {\n",
              "        text-align: right;\n",
              "    }\n",
              "</style>\n",
              "<table border=\"1\" class=\"dataframe\">\n",
              "  <thead>\n",
              "    <tr style=\"text-align: right;\">\n",
              "      <th></th>\n",
              "      <th>body</th>\n",
              "      <th>cleaned_text</th>\n",
              "      <th>label</th>\n",
              "    </tr>\n",
              "  </thead>\n",
              "  <tbody>\n",
              "    <tr>\n",
              "      <th>9</th>\n",
              "      <td>What if I told you, barbarians already, this e...</td>\n",
              "      <td>what if i told you barbarians already this eve...</td>\n",
              "      <td>0</td>\n",
              "    </tr>\n",
              "    <tr>\n",
              "      <th>10</th>\n",
              "      <td>Oh no. Decathlon is bad? I just ordered from t...</td>\n",
              "      <td>oh no decathlon is bad i just ordered from them</td>\n",
              "      <td>0</td>\n",
              "    </tr>\n",
              "    <tr>\n",
              "      <th>11</th>\n",
              "      <td>Last I read they have commited almost all thei...</td>\n",
              "      <td>last i read they have commited almost all thei...</td>\n",
              "      <td>0</td>\n",
              "    </tr>\n",
              "    <tr>\n",
              "      <th>12</th>\n",
              "      <td>Lukashenko was already president…. The protest...</td>\n",
              "      <td>lukashenko was already president the protests ...</td>\n",
              "      <td>0</td>\n",
              "    </tr>\n",
              "    <tr>\n",
              "      <th>13</th>\n",
              "      <td>Russia: 🥺</td>\n",
              "      <td>russia</td>\n",
              "      <td>0</td>\n",
              "    </tr>\n",
              "    <tr>\n",
              "      <th>...</th>\n",
              "      <td>...</td>\n",
              "      <td>...</td>\n",
              "      <td>...</td>\n",
              "    </tr>\n",
              "    <tr>\n",
              "      <th>253489</th>\n",
              "      <td>I doubt the city being a major city will put a...</td>\n",
              "      <td>i doubt the city being a major city will put a...</td>\n",
              "      <td>0</td>\n",
              "    </tr>\n",
              "    <tr>\n",
              "      <th>253490</th>\n",
              "      <td>Except China isn’t just any country. They have...</td>\n",
              "      <td>except china isnt just any country they have t...</td>\n",
              "      <td>0</td>\n",
              "    </tr>\n",
              "    <tr>\n",
              "      <th>253491</th>\n",
              "      <td>As they weren’t shitting themselves before…</td>\n",
              "      <td>as they werent shitting themselves before</td>\n",
              "      <td>0</td>\n",
              "    </tr>\n",
              "    <tr>\n",
              "      <th>253492</th>\n",
              "      <td>TL:\\n\\nIn Mariupol, which was temporarily capt...</td>\n",
              "      <td>tlin mariupol which was temporarily captured b...</td>\n",
              "      <td>1</td>\n",
              "    </tr>\n",
              "    <tr>\n",
              "      <th>253493</th>\n",
              "      <td>\"We shall fight on the beaches, we shall fight...</td>\n",
              "      <td>we shall fight on the beaches we shall fight o...</td>\n",
              "      <td>0</td>\n",
              "    </tr>\n",
              "  </tbody>\n",
              "</table>\n",
              "<p>200302 rows × 3 columns</p>\n",
              "</div>\n",
              "      <button class=\"colab-df-convert\" onclick=\"convertToInteractive('df-33893558-0608-44d5-a742-eaa6a1d0f4bd')\"\n",
              "              title=\"Convert this dataframe to an interactive table.\"\n",
              "              style=\"display:none;\">\n",
              "        \n",
              "  <svg xmlns=\"http://www.w3.org/2000/svg\" height=\"24px\"viewBox=\"0 0 24 24\"\n",
              "       width=\"24px\">\n",
              "    <path d=\"M0 0h24v24H0V0z\" fill=\"none\"/>\n",
              "    <path d=\"M18.56 5.44l.94 2.06.94-2.06 2.06-.94-2.06-.94-.94-2.06-.94 2.06-2.06.94zm-11 1L8.5 8.5l.94-2.06 2.06-.94-2.06-.94L8.5 2.5l-.94 2.06-2.06.94zm10 10l.94 2.06.94-2.06 2.06-.94-2.06-.94-.94-2.06-.94 2.06-2.06.94z\"/><path d=\"M17.41 7.96l-1.37-1.37c-.4-.4-.92-.59-1.43-.59-.52 0-1.04.2-1.43.59L10.3 9.45l-7.72 7.72c-.78.78-.78 2.05 0 2.83L4 21.41c.39.39.9.59 1.41.59.51 0 1.02-.2 1.41-.59l7.78-7.78 2.81-2.81c.8-.78.8-2.07 0-2.86zM5.41 20L4 18.59l7.72-7.72 1.47 1.35L5.41 20z\"/>\n",
              "  </svg>\n",
              "      </button>\n",
              "      \n",
              "  <style>\n",
              "    .colab-df-container {\n",
              "      display:flex;\n",
              "      flex-wrap:wrap;\n",
              "      gap: 12px;\n",
              "    }\n",
              "\n",
              "    .colab-df-convert {\n",
              "      background-color: #E8F0FE;\n",
              "      border: none;\n",
              "      border-radius: 50%;\n",
              "      cursor: pointer;\n",
              "      display: none;\n",
              "      fill: #1967D2;\n",
              "      height: 32px;\n",
              "      padding: 0 0 0 0;\n",
              "      width: 32px;\n",
              "    }\n",
              "\n",
              "    .colab-df-convert:hover {\n",
              "      background-color: #E2EBFA;\n",
              "      box-shadow: 0px 1px 2px rgba(60, 64, 67, 0.3), 0px 1px 3px 1px rgba(60, 64, 67, 0.15);\n",
              "      fill: #174EA6;\n",
              "    }\n",
              "\n",
              "    [theme=dark] .colab-df-convert {\n",
              "      background-color: #3B4455;\n",
              "      fill: #D2E3FC;\n",
              "    }\n",
              "\n",
              "    [theme=dark] .colab-df-convert:hover {\n",
              "      background-color: #434B5C;\n",
              "      box-shadow: 0px 1px 3px 1px rgba(0, 0, 0, 0.15);\n",
              "      filter: drop-shadow(0px 1px 2px rgba(0, 0, 0, 0.3));\n",
              "      fill: #FFFFFF;\n",
              "    }\n",
              "  </style>\n",
              "\n",
              "      <script>\n",
              "        const buttonEl =\n",
              "          document.querySelector('#df-33893558-0608-44d5-a742-eaa6a1d0f4bd button.colab-df-convert');\n",
              "        buttonEl.style.display =\n",
              "          google.colab.kernel.accessAllowed ? 'block' : 'none';\n",
              "\n",
              "        async function convertToInteractive(key) {\n",
              "          const element = document.querySelector('#df-33893558-0608-44d5-a742-eaa6a1d0f4bd');\n",
              "          const dataTable =\n",
              "            await google.colab.kernel.invokeFunction('convertToInteractive',\n",
              "                                                     [key], {});\n",
              "          if (!dataTable) return;\n",
              "\n",
              "          const docLinkHtml = 'Like what you see? Visit the ' +\n",
              "            '<a target=\"_blank\" href=https://colab.research.google.com/notebooks/data_table.ipynb>data table notebook</a>'\n",
              "            + ' to learn more about interactive tables.';\n",
              "          element.innerHTML = '';\n",
              "          dataTable['output_type'] = 'display_data';\n",
              "          await google.colab.output.renderOutput(dataTable, element);\n",
              "          const docLink = document.createElement('div');\n",
              "          docLink.innerHTML = docLinkHtml;\n",
              "          element.appendChild(docLink);\n",
              "        }\n",
              "      </script>\n",
              "    </div>\n",
              "  </div>\n",
              "  "
            ],
            "text/plain": [
              "                                                     body  \\\n",
              "9       What if I told you, barbarians already, this e...   \n",
              "10      Oh no. Decathlon is bad? I just ordered from t...   \n",
              "11      Last I read they have commited almost all thei...   \n",
              "12      Lukashenko was already president…. The protest...   \n",
              "13                                              Russia: 🥺   \n",
              "...                                                   ...   \n",
              "253489  I doubt the city being a major city will put a...   \n",
              "253490  Except China isn’t just any country. They have...   \n",
              "253491        As they weren’t shitting themselves before…   \n",
              "253492  TL:\\n\\nIn Mariupol, which was temporarily capt...   \n",
              "253493  \"We shall fight on the beaches, we shall fight...   \n",
              "\n",
              "                                             cleaned_text  label  \n",
              "9       what if i told you barbarians already this eve...      0  \n",
              "10        oh no decathlon is bad i just ordered from them      0  \n",
              "11      last i read they have commited almost all thei...      0  \n",
              "12      lukashenko was already president the protests ...      0  \n",
              "13                                                russia       0  \n",
              "...                                                   ...    ...  \n",
              "253489  i doubt the city being a major city will put a...      0  \n",
              "253490  except china isnt just any country they have t...      0  \n",
              "253491          as they werent shitting themselves before      0  \n",
              "253492  tlin mariupol which was temporarily captured b...      1  \n",
              "253493  we shall fight on the beaches we shall fight o...      0  \n",
              "\n",
              "[200302 rows x 3 columns]"
            ]
          },
          "execution_count": 141,
          "metadata": {},
          "output_type": "execute_result"
        }
      ],
      "source": [
        "df_inv_bow_xgbpred"
      ]
    },
    {
      "cell_type": "code",
      "execution_count": 142,
      "metadata": {
        "colab": {
          "base_uri": "https://localhost:8080/"
        },
        "id": "H92nC9-z2HJ_",
        "outputId": "d7a1d04e-4158-45eb-b18e-422905cd6636"
      },
      "outputs": [
        {
          "name": "stdout",
          "output_type": "stream",
          "text": [
            "-0.05395636888298671\n"
          ]
        }
      ],
      "source": [
        "# Vader\n",
        "df_inv_vaderpred=pre_label(df_inv,\"cleaned_text\")"
      ]
    },
    {
      "cell_type": "code",
      "execution_count": 143,
      "metadata": {
        "colab": {
          "base_uri": "https://localhost:8080/",
          "height": 424
        },
        "id": "VZbvQok-65vt",
        "outputId": "8f87fa40-9fec-423f-a7a5-28ac971d8923"
      },
      "outputs": [
        {
          "data": {
            "text/html": [
              "\n",
              "  <div id=\"df-1e881888-464f-4a4b-b9c0-c4df2e6b996a\">\n",
              "    <div class=\"colab-df-container\">\n",
              "      <div>\n",
              "<style scoped>\n",
              "    .dataframe tbody tr th:only-of-type {\n",
              "        vertical-align: middle;\n",
              "    }\n",
              "\n",
              "    .dataframe tbody tr th {\n",
              "        vertical-align: top;\n",
              "    }\n",
              "\n",
              "    .dataframe thead th {\n",
              "        text-align: right;\n",
              "    }\n",
              "</style>\n",
              "<table border=\"1\" class=\"dataframe\">\n",
              "  <thead>\n",
              "    <tr style=\"text-align: right;\">\n",
              "      <th></th>\n",
              "      <th>body</th>\n",
              "      <th>cleaned_text</th>\n",
              "      <th>compound</th>\n",
              "      <th>label</th>\n",
              "    </tr>\n",
              "  </thead>\n",
              "  <tbody>\n",
              "    <tr>\n",
              "      <th>9</th>\n",
              "      <td>What if I told you, barbarians already, this e...</td>\n",
              "      <td>what if i told you barbarians already this eve...</td>\n",
              "      <td>0.0000</td>\n",
              "      <td>1</td>\n",
              "    </tr>\n",
              "    <tr>\n",
              "      <th>10</th>\n",
              "      <td>Oh no. Decathlon is bad? I just ordered from t...</td>\n",
              "      <td>oh no decathlon is bad i just ordered from them</td>\n",
              "      <td>-0.6908</td>\n",
              "      <td>0</td>\n",
              "    </tr>\n",
              "    <tr>\n",
              "      <th>11</th>\n",
              "      <td>Last I read they have commited almost all thei...</td>\n",
              "      <td>last i read they have commited almost all thei...</td>\n",
              "      <td>-0.2815</td>\n",
              "      <td>0</td>\n",
              "    </tr>\n",
              "    <tr>\n",
              "      <th>12</th>\n",
              "      <td>Lukashenko was already president…. The protest...</td>\n",
              "      <td>lukashenko was already president the protests ...</td>\n",
              "      <td>-0.5568</td>\n",
              "      <td>0</td>\n",
              "    </tr>\n",
              "    <tr>\n",
              "      <th>13</th>\n",
              "      <td>Russia: 🥺</td>\n",
              "      <td>russia</td>\n",
              "      <td>0.0000</td>\n",
              "      <td>1</td>\n",
              "    </tr>\n",
              "    <tr>\n",
              "      <th>...</th>\n",
              "      <td>...</td>\n",
              "      <td>...</td>\n",
              "      <td>...</td>\n",
              "      <td>...</td>\n",
              "    </tr>\n",
              "    <tr>\n",
              "      <th>253489</th>\n",
              "      <td>I doubt the city being a major city will put a...</td>\n",
              "      <td>i doubt the city being a major city will put a...</td>\n",
              "      <td>-0.4854</td>\n",
              "      <td>0</td>\n",
              "    </tr>\n",
              "    <tr>\n",
              "      <th>253490</th>\n",
              "      <td>Except China isn’t just any country. They have...</td>\n",
              "      <td>except china isnt just any country they have t...</td>\n",
              "      <td>-0.2732</td>\n",
              "      <td>0</td>\n",
              "    </tr>\n",
              "    <tr>\n",
              "      <th>253491</th>\n",
              "      <td>As they weren’t shitting themselves before…</td>\n",
              "      <td>as they werent shitting themselves before</td>\n",
              "      <td>0.3252</td>\n",
              "      <td>1</td>\n",
              "    </tr>\n",
              "    <tr>\n",
              "      <th>253492</th>\n",
              "      <td>TL:\\n\\nIn Mariupol, which was temporarily capt...</td>\n",
              "      <td>tlin mariupol which was temporarily captured b...</td>\n",
              "      <td>0.9338</td>\n",
              "      <td>1</td>\n",
              "    </tr>\n",
              "    <tr>\n",
              "      <th>253493</th>\n",
              "      <td>\"We shall fight on the beaches, we shall fight...</td>\n",
              "      <td>we shall fight on the beaches we shall fight o...</td>\n",
              "      <td>-0.8555</td>\n",
              "      <td>0</td>\n",
              "    </tr>\n",
              "  </tbody>\n",
              "</table>\n",
              "<p>200302 rows × 4 columns</p>\n",
              "</div>\n",
              "      <button class=\"colab-df-convert\" onclick=\"convertToInteractive('df-1e881888-464f-4a4b-b9c0-c4df2e6b996a')\"\n",
              "              title=\"Convert this dataframe to an interactive table.\"\n",
              "              style=\"display:none;\">\n",
              "        \n",
              "  <svg xmlns=\"http://www.w3.org/2000/svg\" height=\"24px\"viewBox=\"0 0 24 24\"\n",
              "       width=\"24px\">\n",
              "    <path d=\"M0 0h24v24H0V0z\" fill=\"none\"/>\n",
              "    <path d=\"M18.56 5.44l.94 2.06.94-2.06 2.06-.94-2.06-.94-.94-2.06-.94 2.06-2.06.94zm-11 1L8.5 8.5l.94-2.06 2.06-.94-2.06-.94L8.5 2.5l-.94 2.06-2.06.94zm10 10l.94 2.06.94-2.06 2.06-.94-2.06-.94-.94-2.06-.94 2.06-2.06.94z\"/><path d=\"M17.41 7.96l-1.37-1.37c-.4-.4-.92-.59-1.43-.59-.52 0-1.04.2-1.43.59L10.3 9.45l-7.72 7.72c-.78.78-.78 2.05 0 2.83L4 21.41c.39.39.9.59 1.41.59.51 0 1.02-.2 1.41-.59l7.78-7.78 2.81-2.81c.8-.78.8-2.07 0-2.86zM5.41 20L4 18.59l7.72-7.72 1.47 1.35L5.41 20z\"/>\n",
              "  </svg>\n",
              "      </button>\n",
              "      \n",
              "  <style>\n",
              "    .colab-df-container {\n",
              "      display:flex;\n",
              "      flex-wrap:wrap;\n",
              "      gap: 12px;\n",
              "    }\n",
              "\n",
              "    .colab-df-convert {\n",
              "      background-color: #E8F0FE;\n",
              "      border: none;\n",
              "      border-radius: 50%;\n",
              "      cursor: pointer;\n",
              "      display: none;\n",
              "      fill: #1967D2;\n",
              "      height: 32px;\n",
              "      padding: 0 0 0 0;\n",
              "      width: 32px;\n",
              "    }\n",
              "\n",
              "    .colab-df-convert:hover {\n",
              "      background-color: #E2EBFA;\n",
              "      box-shadow: 0px 1px 2px rgba(60, 64, 67, 0.3), 0px 1px 3px 1px rgba(60, 64, 67, 0.15);\n",
              "      fill: #174EA6;\n",
              "    }\n",
              "\n",
              "    [theme=dark] .colab-df-convert {\n",
              "      background-color: #3B4455;\n",
              "      fill: #D2E3FC;\n",
              "    }\n",
              "\n",
              "    [theme=dark] .colab-df-convert:hover {\n",
              "      background-color: #434B5C;\n",
              "      box-shadow: 0px 1px 3px 1px rgba(0, 0, 0, 0.15);\n",
              "      filter: drop-shadow(0px 1px 2px rgba(0, 0, 0, 0.3));\n",
              "      fill: #FFFFFF;\n",
              "    }\n",
              "  </style>\n",
              "\n",
              "      <script>\n",
              "        const buttonEl =\n",
              "          document.querySelector('#df-1e881888-464f-4a4b-b9c0-c4df2e6b996a button.colab-df-convert');\n",
              "        buttonEl.style.display =\n",
              "          google.colab.kernel.accessAllowed ? 'block' : 'none';\n",
              "\n",
              "        async function convertToInteractive(key) {\n",
              "          const element = document.querySelector('#df-1e881888-464f-4a4b-b9c0-c4df2e6b996a');\n",
              "          const dataTable =\n",
              "            await google.colab.kernel.invokeFunction('convertToInteractive',\n",
              "                                                     [key], {});\n",
              "          if (!dataTable) return;\n",
              "\n",
              "          const docLinkHtml = 'Like what you see? Visit the ' +\n",
              "            '<a target=\"_blank\" href=https://colab.research.google.com/notebooks/data_table.ipynb>data table notebook</a>'\n",
              "            + ' to learn more about interactive tables.';\n",
              "          element.innerHTML = '';\n",
              "          dataTable['output_type'] = 'display_data';\n",
              "          await google.colab.output.renderOutput(dataTable, element);\n",
              "          const docLink = document.createElement('div');\n",
              "          docLink.innerHTML = docLinkHtml;\n",
              "          element.appendChild(docLink);\n",
              "        }\n",
              "      </script>\n",
              "    </div>\n",
              "  </div>\n",
              "  "
            ],
            "text/plain": [
              "                                                     body  \\\n",
              "9       What if I told you, barbarians already, this e...   \n",
              "10      Oh no. Decathlon is bad? I just ordered from t...   \n",
              "11      Last I read they have commited almost all thei...   \n",
              "12      Lukashenko was already president…. The protest...   \n",
              "13                                              Russia: 🥺   \n",
              "...                                                   ...   \n",
              "253489  I doubt the city being a major city will put a...   \n",
              "253490  Except China isn’t just any country. They have...   \n",
              "253491        As they weren’t shitting themselves before…   \n",
              "253492  TL:\\n\\nIn Mariupol, which was temporarily capt...   \n",
              "253493  \"We shall fight on the beaches, we shall fight...   \n",
              "\n",
              "                                             cleaned_text  compound  label  \n",
              "9       what if i told you barbarians already this eve...    0.0000      1  \n",
              "10        oh no decathlon is bad i just ordered from them   -0.6908      0  \n",
              "11      last i read they have commited almost all thei...   -0.2815      0  \n",
              "12      lukashenko was already president the protests ...   -0.5568      0  \n",
              "13                                                russia     0.0000      1  \n",
              "...                                                   ...       ...    ...  \n",
              "253489  i doubt the city being a major city will put a...   -0.4854      0  \n",
              "253490  except china isnt just any country they have t...   -0.2732      0  \n",
              "253491          as they werent shitting themselves before    0.3252      1  \n",
              "253492  tlin mariupol which was temporarily captured b...    0.9338      1  \n",
              "253493  we shall fight on the beaches we shall fight o...   -0.8555      0  \n",
              "\n",
              "[200302 rows x 4 columns]"
            ]
          },
          "execution_count": 143,
          "metadata": {},
          "output_type": "execute_result"
        }
      ],
      "source": [
        "df_inv_vaderpred"
      ]
    },
    {
      "cell_type": "code",
      "execution_count": 144,
      "metadata": {
        "colab": {
          "base_uri": "https://localhost:8080/",
          "height": 295
        },
        "id": "5-wg6G514DEJ",
        "outputId": "f022ca17-cd71-4da7-d446-e1e25ecee900"
      },
      "outputs": [
        {
          "data": {
            "image/png": "[encoded data removed]",
            "text/plain": [
              "<Figure size 432x288 with 1 Axes>"
            ]
          },
          "metadata": {
            "needs_background": "light"
          },
          "output_type": "display_data"
        }
      ],
      "source": [
        "labels = ['positive', 'negative']\n",
        "values1 = [len([x for x in df_inv_vaderpred['label'] if x == 1]), \n",
        "           len([x for x in df_inv_vaderpred['label'] if x == 0])]\n",
        "values2 = [len([x for x in df_inv_bow_xgbpred['label'] if x == 1]),\n",
        "           len([x for x in df_inv_bow_xgbpred['label'] if x == 0])]\n",
        "\n",
        "# Set the width of each bar\n",
        "width = 0.35\n",
        "\n",
        "# Create a bar plot for values1\n",
        "p1 = plt.bar(labels, values1, width, label='Pretrained model (Vader)')\n",
        "\n",
        "# Create a bar plot for values2\n",
        "p2 = plt.bar([i + width for i in range(len(values2))], values2, width, label='XGBoost')\n",
        "plt.bar_label(p1)\n",
        "plt.bar_label(p2)\n",
        "# Add labels and title\n",
        "plt.xlabel('Class')\n",
        "plt.ylabel('Count')\n",
        "plt.title('Prediction of Vader model and XGBoost model with all languages on dataset 2')\n",
        "plt.xticks(np.arange(2)+0.175,labels)\n",
        "# Add a legend\n",
        "plt.legend()\n",
        "\n",
        "# Show the plot\n",
        "plt.show()\n"
      ]
    }
  ],
  "metadata": {
    "accelerator": "GPU",
    "colab": {
      "provenance": []
    },
    "gpuClass": "standard",
    "kernelspec": {
      "display_name": "Python 3",
      "name": "python3"
    },
    "language_info": {
      "codemirror_mode": {
        "name": "ipython",
        "version": 3
      },
      "file_extension": ".py",
      "mimetype": "text/x-python",
      "name": "python",
      "nbconvert_exporter": "python",
      "pygments_lexer": "ipython3",
      "version": "3.11.0"
    }
  },
  "nbformat": 4,
  "nbformat_minor": 0
}
